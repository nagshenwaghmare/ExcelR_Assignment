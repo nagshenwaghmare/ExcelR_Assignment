{
  "cells": [
    {
      "cell_type": "markdown",
      "id": "f11be9a0",
      "metadata": {
        "id": "f11be9a0"
      },
      "source": [
        "### PREDICT THE BURNED AREA OF FOREST FIRES WITH NEURAL NETWORKS"
      ]
    },
    {
      "cell_type": "markdown",
      "id": "425622e0",
      "metadata": {
        "id": "425622e0"
      },
      "source": [
        "#### Import libraries"
      ]
    },
    {
      "cell_type": "code",
      "execution_count": 1,
      "id": "fb4888f6",
      "metadata": {
        "id": "fb4888f6"
      },
      "outputs": [],
      "source": [
        "import keras\n",
        "import pandas as pd\n",
        "import numpy as np\n",
        "from sklearn.model_selection import train_test_split, cross_val_score\n",
        "import seaborn as sns\n",
        "from keras.models import Sequential\n",
        "from keras.layers import Dense\n",
        "from matplotlib import pyplot as plt\n",
        "%matplotlib inline\n",
        "from sklearn.decomposition import PCA\n",
        "import tensorflow as tf\n",
        "tf.debugging.set_log_device_placement(False)\n",
        "import warnings\n",
        "warnings.filterwarnings('ignore')"
      ]
    },
    {
      "cell_type": "code",
      "execution_count": 2,
      "id": "eaf2b3ad",
      "metadata": {
        "id": "eaf2b3ad"
      },
      "outputs": [],
      "source": [
        "# Generating reproducible results from same code\n",
        "tf.random.set_seed(14)"
      ]
    },
    {
      "cell_type": "code",
      "execution_count": 3,
      "id": "6cf47f6b",
      "metadata": {
        "colab": {
          "base_uri": "https://localhost:8080/",
          "height": 299
        },
        "id": "6cf47f6b",
        "outputId": "a670280c-f2c0-4df0-ddfb-2d7c6d2b19c1"
      },
      "outputs": [
        {
          "output_type": "execute_result",
          "data": {
            "text/plain": [
              "  month  day  FFMC   DMC     DC  ISI  temp  RH  wind  rain  ...  monthfeb  \\\n",
              "0   mar  fri  86.2  26.2   94.3  5.1   8.2  51   6.7   0.0  ...         0   \n",
              "1   oct  tue  90.6  35.4  669.1  6.7  18.0  33   0.9   0.0  ...         0   \n",
              "2   oct  sat  90.6  43.7  686.9  6.7  14.6  33   1.3   0.0  ...         0   \n",
              "3   mar  fri  91.7  33.3   77.5  9.0   8.3  97   4.0   0.2  ...         0   \n",
              "4   mar  sun  89.3  51.3  102.2  9.6  11.4  99   1.8   0.0  ...         0   \n",
              "\n",
              "   monthjan  monthjul  monthjun  monthmar  monthmay  monthnov  monthoct  \\\n",
              "0         0         0         0         1         0         0         0   \n",
              "1         0         0         0         0         0         0         1   \n",
              "2         0         0         0         0         0         0         1   \n",
              "3         0         0         0         1         0         0         0   \n",
              "4         0         0         0         1         0         0         0   \n",
              "\n",
              "   monthsep  size_category  \n",
              "0         0          small  \n",
              "1         0          small  \n",
              "2         0          small  \n",
              "3         0          small  \n",
              "4         0          small  \n",
              "\n",
              "[5 rows x 31 columns]"
            ],
            "text/html": [
              "\n",
              "  <div id=\"df-9e81b8fb-fd09-4a81-a4e2-20f6da9704d8\">\n",
              "    <div class=\"colab-df-container\">\n",
              "      <div>\n",
              "<style scoped>\n",
              "    .dataframe tbody tr th:only-of-type {\n",
              "        vertical-align: middle;\n",
              "    }\n",
              "\n",
              "    .dataframe tbody tr th {\n",
              "        vertical-align: top;\n",
              "    }\n",
              "\n",
              "    .dataframe thead th {\n",
              "        text-align: right;\n",
              "    }\n",
              "</style>\n",
              "<table border=\"1\" class=\"dataframe\">\n",
              "  <thead>\n",
              "    <tr style=\"text-align: right;\">\n",
              "      <th></th>\n",
              "      <th>month</th>\n",
              "      <th>day</th>\n",
              "      <th>FFMC</th>\n",
              "      <th>DMC</th>\n",
              "      <th>DC</th>\n",
              "      <th>ISI</th>\n",
              "      <th>temp</th>\n",
              "      <th>RH</th>\n",
              "      <th>wind</th>\n",
              "      <th>rain</th>\n",
              "      <th>...</th>\n",
              "      <th>monthfeb</th>\n",
              "      <th>monthjan</th>\n",
              "      <th>monthjul</th>\n",
              "      <th>monthjun</th>\n",
              "      <th>monthmar</th>\n",
              "      <th>monthmay</th>\n",
              "      <th>monthnov</th>\n",
              "      <th>monthoct</th>\n",
              "      <th>monthsep</th>\n",
              "      <th>size_category</th>\n",
              "    </tr>\n",
              "  </thead>\n",
              "  <tbody>\n",
              "    <tr>\n",
              "      <th>0</th>\n",
              "      <td>mar</td>\n",
              "      <td>fri</td>\n",
              "      <td>86.2</td>\n",
              "      <td>26.2</td>\n",
              "      <td>94.3</td>\n",
              "      <td>5.1</td>\n",
              "      <td>8.2</td>\n",
              "      <td>51</td>\n",
              "      <td>6.7</td>\n",
              "      <td>0.0</td>\n",
              "      <td>...</td>\n",
              "      <td>0</td>\n",
              "      <td>0</td>\n",
              "      <td>0</td>\n",
              "      <td>0</td>\n",
              "      <td>1</td>\n",
              "      <td>0</td>\n",
              "      <td>0</td>\n",
              "      <td>0</td>\n",
              "      <td>0</td>\n",
              "      <td>small</td>\n",
              "    </tr>\n",
              "    <tr>\n",
              "      <th>1</th>\n",
              "      <td>oct</td>\n",
              "      <td>tue</td>\n",
              "      <td>90.6</td>\n",
              "      <td>35.4</td>\n",
              "      <td>669.1</td>\n",
              "      <td>6.7</td>\n",
              "      <td>18.0</td>\n",
              "      <td>33</td>\n",
              "      <td>0.9</td>\n",
              "      <td>0.0</td>\n",
              "      <td>...</td>\n",
              "      <td>0</td>\n",
              "      <td>0</td>\n",
              "      <td>0</td>\n",
              "      <td>0</td>\n",
              "      <td>0</td>\n",
              "      <td>0</td>\n",
              "      <td>0</td>\n",
              "      <td>1</td>\n",
              "      <td>0</td>\n",
              "      <td>small</td>\n",
              "    </tr>\n",
              "    <tr>\n",
              "      <th>2</th>\n",
              "      <td>oct</td>\n",
              "      <td>sat</td>\n",
              "      <td>90.6</td>\n",
              "      <td>43.7</td>\n",
              "      <td>686.9</td>\n",
              "      <td>6.7</td>\n",
              "      <td>14.6</td>\n",
              "      <td>33</td>\n",
              "      <td>1.3</td>\n",
              "      <td>0.0</td>\n",
              "      <td>...</td>\n",
              "      <td>0</td>\n",
              "      <td>0</td>\n",
              "      <td>0</td>\n",
              "      <td>0</td>\n",
              "      <td>0</td>\n",
              "      <td>0</td>\n",
              "      <td>0</td>\n",
              "      <td>1</td>\n",
              "      <td>0</td>\n",
              "      <td>small</td>\n",
              "    </tr>\n",
              "    <tr>\n",
              "      <th>3</th>\n",
              "      <td>mar</td>\n",
              "      <td>fri</td>\n",
              "      <td>91.7</td>\n",
              "      <td>33.3</td>\n",
              "      <td>77.5</td>\n",
              "      <td>9.0</td>\n",
              "      <td>8.3</td>\n",
              "      <td>97</td>\n",
              "      <td>4.0</td>\n",
              "      <td>0.2</td>\n",
              "      <td>...</td>\n",
              "      <td>0</td>\n",
              "      <td>0</td>\n",
              "      <td>0</td>\n",
              "      <td>0</td>\n",
              "      <td>1</td>\n",
              "      <td>0</td>\n",
              "      <td>0</td>\n",
              "      <td>0</td>\n",
              "      <td>0</td>\n",
              "      <td>small</td>\n",
              "    </tr>\n",
              "    <tr>\n",
              "      <th>4</th>\n",
              "      <td>mar</td>\n",
              "      <td>sun</td>\n",
              "      <td>89.3</td>\n",
              "      <td>51.3</td>\n",
              "      <td>102.2</td>\n",
              "      <td>9.6</td>\n",
              "      <td>11.4</td>\n",
              "      <td>99</td>\n",
              "      <td>1.8</td>\n",
              "      <td>0.0</td>\n",
              "      <td>...</td>\n",
              "      <td>0</td>\n",
              "      <td>0</td>\n",
              "      <td>0</td>\n",
              "      <td>0</td>\n",
              "      <td>1</td>\n",
              "      <td>0</td>\n",
              "      <td>0</td>\n",
              "      <td>0</td>\n",
              "      <td>0</td>\n",
              "      <td>small</td>\n",
              "    </tr>\n",
              "  </tbody>\n",
              "</table>\n",
              "<p>5 rows × 31 columns</p>\n",
              "</div>\n",
              "      <button class=\"colab-df-convert\" onclick=\"convertToInteractive('df-9e81b8fb-fd09-4a81-a4e2-20f6da9704d8')\"\n",
              "              title=\"Convert this dataframe to an interactive table.\"\n",
              "              style=\"display:none;\">\n",
              "        \n",
              "  <svg xmlns=\"http://www.w3.org/2000/svg\" height=\"24px\"viewBox=\"0 0 24 24\"\n",
              "       width=\"24px\">\n",
              "    <path d=\"M0 0h24v24H0V0z\" fill=\"none\"/>\n",
              "    <path d=\"M18.56 5.44l.94 2.06.94-2.06 2.06-.94-2.06-.94-.94-2.06-.94 2.06-2.06.94zm-11 1L8.5 8.5l.94-2.06 2.06-.94-2.06-.94L8.5 2.5l-.94 2.06-2.06.94zm10 10l.94 2.06.94-2.06 2.06-.94-2.06-.94-.94-2.06-.94 2.06-2.06.94z\"/><path d=\"M17.41 7.96l-1.37-1.37c-.4-.4-.92-.59-1.43-.59-.52 0-1.04.2-1.43.59L10.3 9.45l-7.72 7.72c-.78.78-.78 2.05 0 2.83L4 21.41c.39.39.9.59 1.41.59.51 0 1.02-.2 1.41-.59l7.78-7.78 2.81-2.81c.8-.78.8-2.07 0-2.86zM5.41 20L4 18.59l7.72-7.72 1.47 1.35L5.41 20z\"/>\n",
              "  </svg>\n",
              "      </button>\n",
              "      \n",
              "  <style>\n",
              "    .colab-df-container {\n",
              "      display:flex;\n",
              "      flex-wrap:wrap;\n",
              "      gap: 12px;\n",
              "    }\n",
              "\n",
              "    .colab-df-convert {\n",
              "      background-color: #E8F0FE;\n",
              "      border: none;\n",
              "      border-radius: 50%;\n",
              "      cursor: pointer;\n",
              "      display: none;\n",
              "      fill: #1967D2;\n",
              "      height: 32px;\n",
              "      padding: 0 0 0 0;\n",
              "      width: 32px;\n",
              "    }\n",
              "\n",
              "    .colab-df-convert:hover {\n",
              "      background-color: #E2EBFA;\n",
              "      box-shadow: 0px 1px 2px rgba(60, 64, 67, 0.3), 0px 1px 3px 1px rgba(60, 64, 67, 0.15);\n",
              "      fill: #174EA6;\n",
              "    }\n",
              "\n",
              "    [theme=dark] .colab-df-convert {\n",
              "      background-color: #3B4455;\n",
              "      fill: #D2E3FC;\n",
              "    }\n",
              "\n",
              "    [theme=dark] .colab-df-convert:hover {\n",
              "      background-color: #434B5C;\n",
              "      box-shadow: 0px 1px 3px 1px rgba(0, 0, 0, 0.15);\n",
              "      filter: drop-shadow(0px 1px 2px rgba(0, 0, 0, 0.3));\n",
              "      fill: #FFFFFF;\n",
              "    }\n",
              "  </style>\n",
              "\n",
              "      <script>\n",
              "        const buttonEl =\n",
              "          document.querySelector('#df-9e81b8fb-fd09-4a81-a4e2-20f6da9704d8 button.colab-df-convert');\n",
              "        buttonEl.style.display =\n",
              "          google.colab.kernel.accessAllowed ? 'block' : 'none';\n",
              "\n",
              "        async function convertToInteractive(key) {\n",
              "          const element = document.querySelector('#df-9e81b8fb-fd09-4a81-a4e2-20f6da9704d8');\n",
              "          const dataTable =\n",
              "            await google.colab.kernel.invokeFunction('convertToInteractive',\n",
              "                                                     [key], {});\n",
              "          if (!dataTable) return;\n",
              "\n",
              "          const docLinkHtml = 'Like what you see? Visit the ' +\n",
              "            '<a target=\"_blank\" href=https://colab.research.google.com/notebooks/data_table.ipynb>data table notebook</a>'\n",
              "            + ' to learn more about interactive tables.';\n",
              "          element.innerHTML = '';\n",
              "          dataTable['output_type'] = 'display_data';\n",
              "          await google.colab.output.renderOutput(dataTable, element);\n",
              "          const docLink = document.createElement('div');\n",
              "          docLink.innerHTML = docLinkHtml;\n",
              "          element.appendChild(docLink);\n",
              "        }\n",
              "      </script>\n",
              "    </div>\n",
              "  </div>\n",
              "  "
            ]
          },
          "metadata": {},
          "execution_count": 3
        }
      ],
      "source": [
        "\n",
        "forest=pd.read_csv('/content/forestfires.csv')\n",
        "forest.head()"
      ]
    },
    {
      "cell_type": "code",
      "execution_count": 4,
      "id": "49944981",
      "metadata": {
        "id": "49944981"
      },
      "outputs": [],
      "source": [
        "df = forest.copy() #Removing the dummies at this time\n",
        "df.drop(df.columns[11:30],axis=1,inplace = True)"
      ]
    },
    {
      "cell_type": "code",
      "execution_count": 5,
      "id": "22f5f095",
      "metadata": {
        "colab": {
          "base_uri": "https://localhost:8080/"
        },
        "id": "22f5f095",
        "outputId": "5f54feac-3d07-4ac3-f482-6db20b6fbc49"
      },
      "outputs": [
        {
          "output_type": "execute_result",
          "data": {
            "text/plain": [
              "(517, 12)"
            ]
          },
          "metadata": {},
          "execution_count": 5
        }
      ],
      "source": [
        "df.shape"
      ]
    },
    {
      "cell_type": "code",
      "execution_count": 6,
      "id": "a1b9330c",
      "metadata": {
        "colab": {
          "base_uri": "https://localhost:8080/"
        },
        "id": "a1b9330c",
        "outputId": "4c7edac1-7209-44ba-bbdd-8b78df43c3b2"
      },
      "outputs": [
        {
          "output_type": "stream",
          "name": "stdout",
          "text": [
            "<class 'pandas.core.frame.DataFrame'>\n",
            "RangeIndex: 517 entries, 0 to 516\n",
            "Data columns (total 12 columns):\n",
            " #   Column         Non-Null Count  Dtype  \n",
            "---  ------         --------------  -----  \n",
            " 0   month          517 non-null    object \n",
            " 1   day            517 non-null    object \n",
            " 2   FFMC           517 non-null    float64\n",
            " 3   DMC            517 non-null    float64\n",
            " 4   DC             517 non-null    float64\n",
            " 5   ISI            517 non-null    float64\n",
            " 6   temp           517 non-null    float64\n",
            " 7   RH             517 non-null    int64  \n",
            " 8   wind           517 non-null    float64\n",
            " 9   rain           517 non-null    float64\n",
            " 10  area           517 non-null    float64\n",
            " 11  size_category  517 non-null    object \n",
            "dtypes: float64(8), int64(1), object(3)\n",
            "memory usage: 48.6+ KB\n"
          ]
        }
      ],
      "source": [
        "df.info()"
      ]
    },
    {
      "cell_type": "code",
      "execution_count": 7,
      "id": "8004ca25",
      "metadata": {
        "colab": {
          "base_uri": "https://localhost:8080/"
        },
        "id": "8004ca25",
        "outputId": "fae66501-7c0d-4704-9c70-d071d1061a48"
      },
      "outputs": [
        {
          "output_type": "execute_result",
          "data": {
            "text/plain": [
              "Index(['month', 'day', 'FFMC', 'DMC', 'DC', 'ISI', 'temp', 'RH', 'wind',\n",
              "       'rain', 'area', 'size_category'],\n",
              "      dtype='object')"
            ]
          },
          "metadata": {},
          "execution_count": 7
        }
      ],
      "source": [
        "df.columns"
      ]
    },
    {
      "cell_type": "code",
      "execution_count": 8,
      "id": "96d6f780",
      "metadata": {
        "colab": {
          "base_uri": "https://localhost:8080/"
        },
        "id": "96d6f780",
        "outputId": "e59819c4-4caf-438e-e431-64e04594c8f6"
      },
      "outputs": [
        {
          "output_type": "stream",
          "name": "stdout",
          "text": [
            "<class 'pandas.core.frame.DataFrame'>\n",
            "RangeIndex: 517 entries, 0 to 516\n",
            "Data columns (total 12 columns):\n",
            " #   Column         Non-Null Count  Dtype  \n",
            "---  ------         --------------  -----  \n",
            " 0   month          517 non-null    object \n",
            " 1   day            517 non-null    object \n",
            " 2   FFMC           517 non-null    float64\n",
            " 3   DMC            517 non-null    float64\n",
            " 4   DC             517 non-null    float64\n",
            " 5   ISI            517 non-null    float64\n",
            " 6   temp           517 non-null    float64\n",
            " 7   RH             517 non-null    int64  \n",
            " 8   wind           517 non-null    float64\n",
            " 9   rain           517 non-null    float64\n",
            " 10  area           517 non-null    float64\n",
            " 11  size_category  517 non-null    object \n",
            "dtypes: float64(8), int64(1), object(3)\n",
            "memory usage: 48.6+ KB\n"
          ]
        }
      ],
      "source": [
        "df.info()"
      ]
    },
    {
      "cell_type": "code",
      "execution_count": 9,
      "id": "1396f79b",
      "metadata": {
        "colab": {
          "base_uri": "https://localhost:8080/"
        },
        "id": "1396f79b",
        "outputId": "9223abbb-3c43-4a1c-e4f7-315730aa9172"
      },
      "outputs": [
        {
          "output_type": "execute_result",
          "data": {
            "text/plain": [
              "month            0\n",
              "day              0\n",
              "FFMC             0\n",
              "DMC              0\n",
              "DC               0\n",
              "ISI              0\n",
              "temp             0\n",
              "RH               0\n",
              "wind             0\n",
              "rain             0\n",
              "area             0\n",
              "size_category    0\n",
              "dtype: int64"
            ]
          },
          "metadata": {},
          "execution_count": 9
        }
      ],
      "source": [
        "df.isnull().sum()"
      ]
    },
    {
      "cell_type": "markdown",
      "id": "a4e72e63",
      "metadata": {
        "id": "a4e72e63"
      },
      "source": [
        "## Feature Analysis"
      ]
    },
    {
      "cell_type": "code",
      "execution_count": 10,
      "id": "1596a932",
      "metadata": {
        "colab": {
          "base_uri": "https://localhost:8080/"
        },
        "id": "1596a932",
        "outputId": "2a032c02-85bf-499e-a8aa-0f7218a52e02"
      },
      "outputs": [
        {
          "output_type": "execute_result",
          "data": {
            "text/plain": [
              "aug    184\n",
              "sep    172\n",
              "mar     54\n",
              "jul     32\n",
              "feb     20\n",
              "jun     17\n",
              "oct     15\n",
              "apr      9\n",
              "dec      9\n",
              "jan      2\n",
              "may      2\n",
              "nov      1\n",
              "Name: month, dtype: int64"
            ]
          },
          "metadata": {},
          "execution_count": 10
        }
      ],
      "source": [
        "df.month.value_counts()"
      ]
    },
    {
      "cell_type": "code",
      "execution_count": 11,
      "id": "bdcf1654",
      "metadata": {
        "colab": {
          "base_uri": "https://localhost:8080/"
        },
        "id": "bdcf1654",
        "outputId": "6eefda12-1888-4b30-eaa3-729635c74910"
      },
      "outputs": [
        {
          "output_type": "execute_result",
          "data": {
            "text/plain": [
              "small    378\n",
              "large    139\n",
              "Name: size_category, dtype: int64"
            ]
          },
          "metadata": {},
          "execution_count": 11
        }
      ],
      "source": [
        " # The dataset is biased. Lets remove the bias.\n",
        "df.size_category.value_counts()"
      ]
    },
    {
      "cell_type": "markdown",
      "id": "f7fbaf09",
      "metadata": {
        "id": "f7fbaf09"
      },
      "source": [
        "## label encoding"
      ]
    },
    {
      "cell_type": "code",
      "execution_count": 12,
      "id": "77de004b",
      "metadata": {
        "colab": {
          "base_uri": "https://localhost:8080/",
          "height": 206
        },
        "id": "77de004b",
        "outputId": "5e65bdf6-b1d6-4fd0-f0bc-1f2de70f45ac"
      },
      "outputs": [
        {
          "output_type": "execute_result",
          "data": {
            "text/plain": [
              "   month  day  FFMC   DMC     DC  ISI  temp  RH  wind  rain  area  \\\n",
              "0      7    0  86.2  26.2   94.3  5.1   8.2  51   6.7   0.0   0.0   \n",
              "1     10    5  90.6  35.4  669.1  6.7  18.0  33   0.9   0.0   0.0   \n",
              "2     10    2  90.6  43.7  686.9  6.7  14.6  33   1.3   0.0   0.0   \n",
              "3      7    0  91.7  33.3   77.5  9.0   8.3  97   4.0   0.2   0.0   \n",
              "4      7    3  89.3  51.3  102.2  9.6  11.4  99   1.8   0.0   0.0   \n",
              "\n",
              "   size_category  \n",
              "0              1  \n",
              "1              1  \n",
              "2              1  \n",
              "3              1  \n",
              "4              1  "
            ],
            "text/html": [
              "\n",
              "  <div id=\"df-2612a051-66bf-4d9d-bf76-d7e9e1ee8410\">\n",
              "    <div class=\"colab-df-container\">\n",
              "      <div>\n",
              "<style scoped>\n",
              "    .dataframe tbody tr th:only-of-type {\n",
              "        vertical-align: middle;\n",
              "    }\n",
              "\n",
              "    .dataframe tbody tr th {\n",
              "        vertical-align: top;\n",
              "    }\n",
              "\n",
              "    .dataframe thead th {\n",
              "        text-align: right;\n",
              "    }\n",
              "</style>\n",
              "<table border=\"1\" class=\"dataframe\">\n",
              "  <thead>\n",
              "    <tr style=\"text-align: right;\">\n",
              "      <th></th>\n",
              "      <th>month</th>\n",
              "      <th>day</th>\n",
              "      <th>FFMC</th>\n",
              "      <th>DMC</th>\n",
              "      <th>DC</th>\n",
              "      <th>ISI</th>\n",
              "      <th>temp</th>\n",
              "      <th>RH</th>\n",
              "      <th>wind</th>\n",
              "      <th>rain</th>\n",
              "      <th>area</th>\n",
              "      <th>size_category</th>\n",
              "    </tr>\n",
              "  </thead>\n",
              "  <tbody>\n",
              "    <tr>\n",
              "      <th>0</th>\n",
              "      <td>7</td>\n",
              "      <td>0</td>\n",
              "      <td>86.2</td>\n",
              "      <td>26.2</td>\n",
              "      <td>94.3</td>\n",
              "      <td>5.1</td>\n",
              "      <td>8.2</td>\n",
              "      <td>51</td>\n",
              "      <td>6.7</td>\n",
              "      <td>0.0</td>\n",
              "      <td>0.0</td>\n",
              "      <td>1</td>\n",
              "    </tr>\n",
              "    <tr>\n",
              "      <th>1</th>\n",
              "      <td>10</td>\n",
              "      <td>5</td>\n",
              "      <td>90.6</td>\n",
              "      <td>35.4</td>\n",
              "      <td>669.1</td>\n",
              "      <td>6.7</td>\n",
              "      <td>18.0</td>\n",
              "      <td>33</td>\n",
              "      <td>0.9</td>\n",
              "      <td>0.0</td>\n",
              "      <td>0.0</td>\n",
              "      <td>1</td>\n",
              "    </tr>\n",
              "    <tr>\n",
              "      <th>2</th>\n",
              "      <td>10</td>\n",
              "      <td>2</td>\n",
              "      <td>90.6</td>\n",
              "      <td>43.7</td>\n",
              "      <td>686.9</td>\n",
              "      <td>6.7</td>\n",
              "      <td>14.6</td>\n",
              "      <td>33</td>\n",
              "      <td>1.3</td>\n",
              "      <td>0.0</td>\n",
              "      <td>0.0</td>\n",
              "      <td>1</td>\n",
              "    </tr>\n",
              "    <tr>\n",
              "      <th>3</th>\n",
              "      <td>7</td>\n",
              "      <td>0</td>\n",
              "      <td>91.7</td>\n",
              "      <td>33.3</td>\n",
              "      <td>77.5</td>\n",
              "      <td>9.0</td>\n",
              "      <td>8.3</td>\n",
              "      <td>97</td>\n",
              "      <td>4.0</td>\n",
              "      <td>0.2</td>\n",
              "      <td>0.0</td>\n",
              "      <td>1</td>\n",
              "    </tr>\n",
              "    <tr>\n",
              "      <th>4</th>\n",
              "      <td>7</td>\n",
              "      <td>3</td>\n",
              "      <td>89.3</td>\n",
              "      <td>51.3</td>\n",
              "      <td>102.2</td>\n",
              "      <td>9.6</td>\n",
              "      <td>11.4</td>\n",
              "      <td>99</td>\n",
              "      <td>1.8</td>\n",
              "      <td>0.0</td>\n",
              "      <td>0.0</td>\n",
              "      <td>1</td>\n",
              "    </tr>\n",
              "  </tbody>\n",
              "</table>\n",
              "</div>\n",
              "      <button class=\"colab-df-convert\" onclick=\"convertToInteractive('df-2612a051-66bf-4d9d-bf76-d7e9e1ee8410')\"\n",
              "              title=\"Convert this dataframe to an interactive table.\"\n",
              "              style=\"display:none;\">\n",
              "        \n",
              "  <svg xmlns=\"http://www.w3.org/2000/svg\" height=\"24px\"viewBox=\"0 0 24 24\"\n",
              "       width=\"24px\">\n",
              "    <path d=\"M0 0h24v24H0V0z\" fill=\"none\"/>\n",
              "    <path d=\"M18.56 5.44l.94 2.06.94-2.06 2.06-.94-2.06-.94-.94-2.06-.94 2.06-2.06.94zm-11 1L8.5 8.5l.94-2.06 2.06-.94-2.06-.94L8.5 2.5l-.94 2.06-2.06.94zm10 10l.94 2.06.94-2.06 2.06-.94-2.06-.94-.94-2.06-.94 2.06-2.06.94z\"/><path d=\"M17.41 7.96l-1.37-1.37c-.4-.4-.92-.59-1.43-.59-.52 0-1.04.2-1.43.59L10.3 9.45l-7.72 7.72c-.78.78-.78 2.05 0 2.83L4 21.41c.39.39.9.59 1.41.59.51 0 1.02-.2 1.41-.59l7.78-7.78 2.81-2.81c.8-.78.8-2.07 0-2.86zM5.41 20L4 18.59l7.72-7.72 1.47 1.35L5.41 20z\"/>\n",
              "  </svg>\n",
              "      </button>\n",
              "      \n",
              "  <style>\n",
              "    .colab-df-container {\n",
              "      display:flex;\n",
              "      flex-wrap:wrap;\n",
              "      gap: 12px;\n",
              "    }\n",
              "\n",
              "    .colab-df-convert {\n",
              "      background-color: #E8F0FE;\n",
              "      border: none;\n",
              "      border-radius: 50%;\n",
              "      cursor: pointer;\n",
              "      display: none;\n",
              "      fill: #1967D2;\n",
              "      height: 32px;\n",
              "      padding: 0 0 0 0;\n",
              "      width: 32px;\n",
              "    }\n",
              "\n",
              "    .colab-df-convert:hover {\n",
              "      background-color: #E2EBFA;\n",
              "      box-shadow: 0px 1px 2px rgba(60, 64, 67, 0.3), 0px 1px 3px 1px rgba(60, 64, 67, 0.15);\n",
              "      fill: #174EA6;\n",
              "    }\n",
              "\n",
              "    [theme=dark] .colab-df-convert {\n",
              "      background-color: #3B4455;\n",
              "      fill: #D2E3FC;\n",
              "    }\n",
              "\n",
              "    [theme=dark] .colab-df-convert:hover {\n",
              "      background-color: #434B5C;\n",
              "      box-shadow: 0px 1px 3px 1px rgba(0, 0, 0, 0.15);\n",
              "      filter: drop-shadow(0px 1px 2px rgba(0, 0, 0, 0.3));\n",
              "      fill: #FFFFFF;\n",
              "    }\n",
              "  </style>\n",
              "\n",
              "      <script>\n",
              "        const buttonEl =\n",
              "          document.querySelector('#df-2612a051-66bf-4d9d-bf76-d7e9e1ee8410 button.colab-df-convert');\n",
              "        buttonEl.style.display =\n",
              "          google.colab.kernel.accessAllowed ? 'block' : 'none';\n",
              "\n",
              "        async function convertToInteractive(key) {\n",
              "          const element = document.querySelector('#df-2612a051-66bf-4d9d-bf76-d7e9e1ee8410');\n",
              "          const dataTable =\n",
              "            await google.colab.kernel.invokeFunction('convertToInteractive',\n",
              "                                                     [key], {});\n",
              "          if (!dataTable) return;\n",
              "\n",
              "          const docLinkHtml = 'Like what you see? Visit the ' +\n",
              "            '<a target=\"_blank\" href=https://colab.research.google.com/notebooks/data_table.ipynb>data table notebook</a>'\n",
              "            + ' to learn more about interactive tables.';\n",
              "          element.innerHTML = '';\n",
              "          dataTable['output_type'] = 'display_data';\n",
              "          await google.colab.output.renderOutput(dataTable, element);\n",
              "          const docLink = document.createElement('div');\n",
              "          docLink.innerHTML = docLinkHtml;\n",
              "          element.appendChild(docLink);\n",
              "        }\n",
              "      </script>\n",
              "    </div>\n",
              "  </div>\n",
              "  "
            ]
          },
          "metadata": {},
          "execution_count": 12
        }
      ],
      "source": [
        "#We are going to perform label encoding since it is faster than dummy variables\n",
        "\n",
        "from sklearn import preprocessing\n",
        "label_encoder = preprocessing.LabelEncoder()\n",
        "df.month= label_encoder.fit_transform(df.month)\n",
        "df.day= label_encoder.fit_transform(df.day)\n",
        "df.size_category= label_encoder.fit_transform(df.size_category)\n",
        "df.head()"
      ]
    },
    {
      "cell_type": "markdown",
      "id": "f845df3a",
      "metadata": {
        "id": "f845df3a"
      },
      "source": [
        "## Removing Bias in the Dataset"
      ]
    },
    {
      "cell_type": "code",
      "execution_count": 13,
      "id": "bc8e93cc",
      "metadata": {
        "colab": {
          "base_uri": "https://localhost:8080/"
        },
        "id": "bc8e93cc",
        "outputId": "5d9c0541-0fe7-421f-948e-cb4efc63f67e"
      },
      "outputs": [
        {
          "output_type": "stream",
          "name": "stdout",
          "text": [
            "Counter({1: 378, 0: 139})\n",
            "Counter({1: 370, 0: 370})\n"
          ]
        }
      ],
      "source": [
        "from imblearn.combine import SMOTETomek\n",
        "from collections import Counter\n",
        "\n",
        "resamp = df.copy()\n",
        "#SMOTEK TECHNIQUE\n",
        "\n",
        "#Define dataset\n",
        "a = resamp.iloc[:,:-1]\n",
        "b = resamp.iloc[:,-1]\n",
        "\n",
        "#Count before\n",
        "print(Counter(b))\n",
        "\n",
        "smt = SMOTETomek(sampling_strategy = 'auto')\n",
        "a, b = smt.fit_resample(a, b)\n",
        "\n",
        "#Count after\n",
        "print(Counter(b)) #removed bias in dataset"
      ]
    },
    {
      "cell_type": "markdown",
      "id": "001e4505",
      "metadata": {
        "id": "001e4505"
      },
      "source": [
        "## Train | Split dataset"
      ]
    },
    {
      "cell_type": "code",
      "execution_count": 14,
      "id": "c798b983",
      "metadata": {
        "id": "c798b983"
      },
      "outputs": [],
      "source": [
        "X = a\n",
        "Y = b\n",
        "X_train, X_test, y_train, y_test = train_test_split(X,Y, test_size = 0.3)"
      ]
    },
    {
      "cell_type": "markdown",
      "id": "8128bfa2",
      "metadata": {
        "id": "8128bfa2"
      },
      "source": [
        "## Neural Network Modelling"
      ]
    },
    {
      "cell_type": "markdown",
      "id": "f6676f97",
      "metadata": {
        "id": "f6676f97"
      },
      "source": [
        "Building the Model"
      ]
    },
    {
      "cell_type": "code",
      "execution_count": 14,
      "id": "1a67600c",
      "metadata": {
        "id": "1a67600c"
      },
      "outputs": [],
      "source": []
    },
    {
      "cell_type": "code",
      "execution_count": 15,
      "id": "ac1633d4",
      "metadata": {
        "colab": {
          "base_uri": "https://localhost:8080/"
        },
        "id": "ac1633d4",
        "outputId": "20428a8d-7d34-4e28-8d1a-08cdcfbb2f82"
      },
      "outputs": [
        {
          "output_type": "stream",
          "name": "stdout",
          "text": [
            "Epoch 1/50\n",
            "35/35 [==============================] - 1s 9ms/step - loss: 0.6928 - accuracy: 0.4899 - val_loss: 0.6875 - val_accuracy: 0.5205\n",
            "Epoch 2/50\n",
            "35/35 [==============================] - 0s 4ms/step - loss: 0.6848 - accuracy: 0.5821 - val_loss: 0.6745 - val_accuracy: 0.7018\n",
            "Epoch 3/50\n",
            "35/35 [==============================] - 0s 3ms/step - loss: 0.6577 - accuracy: 0.6427 - val_loss: 0.6366 - val_accuracy: 0.6784\n",
            "Epoch 4/50\n",
            "35/35 [==============================] - 0s 3ms/step - loss: 0.6007 - accuracy: 0.7406 - val_loss: 0.5790 - val_accuracy: 0.5263\n",
            "Epoch 5/50\n",
            "35/35 [==============================] - 0s 4ms/step - loss: 0.5840 - accuracy: 0.6715 - val_loss: 0.5142 - val_accuracy: 0.8012\n",
            "Epoch 6/50\n",
            "35/35 [==============================] - 0s 3ms/step - loss: 0.4932 - accuracy: 0.7867 - val_loss: 0.4463 - val_accuracy: 0.8538\n",
            "Epoch 7/50\n",
            "35/35 [==============================] - 0s 4ms/step - loss: 0.3712 - accuracy: 0.9107 - val_loss: 0.3175 - val_accuracy: 0.9240\n",
            "Epoch 8/50\n",
            "35/35 [==============================] - 0s 5ms/step - loss: 0.2733 - accuracy: 0.9452 - val_loss: 0.2290 - val_accuracy: 0.9474\n",
            "Epoch 9/50\n",
            "35/35 [==============================] - 0s 4ms/step - loss: 0.2078 - accuracy: 0.9597 - val_loss: 0.1932 - val_accuracy: 0.9942\n",
            "Epoch 10/50\n",
            "35/35 [==============================] - 0s 5ms/step - loss: 0.1780 - accuracy: 0.9625 - val_loss: 0.1277 - val_accuracy: 0.9883\n",
            "Epoch 11/50\n",
            "35/35 [==============================] - 0s 5ms/step - loss: 0.1545 - accuracy: 0.9510 - val_loss: 0.3336 - val_accuracy: 0.7895\n",
            "Epoch 12/50\n",
            "35/35 [==============================] - 0s 5ms/step - loss: 0.1491 - accuracy: 0.9510 - val_loss: 0.0839 - val_accuracy: 1.0000\n",
            "Epoch 13/50\n",
            "35/35 [==============================] - 0s 5ms/step - loss: 0.0929 - accuracy: 0.9827 - val_loss: 0.1104 - val_accuracy: 0.9532\n",
            "Epoch 14/50\n",
            "35/35 [==============================] - 0s 5ms/step - loss: 0.0828 - accuracy: 0.9741 - val_loss: 0.0847 - val_accuracy: 0.9708\n",
            "Epoch 15/50\n",
            "35/35 [==============================] - 0s 5ms/step - loss: 0.0780 - accuracy: 0.9798 - val_loss: 0.0814 - val_accuracy: 0.9708\n",
            "Epoch 16/50\n",
            "35/35 [==============================] - 0s 4ms/step - loss: 0.0845 - accuracy: 0.9683 - val_loss: 0.1316 - val_accuracy: 0.9298\n",
            "Epoch 17/50\n",
            "35/35 [==============================] - 0s 4ms/step - loss: 0.0706 - accuracy: 0.9712 - val_loss: 0.0518 - val_accuracy: 0.9942\n",
            "Epoch 18/50\n",
            "35/35 [==============================] - 0s 3ms/step - loss: 0.0482 - accuracy: 0.9942 - val_loss: 0.0396 - val_accuracy: 0.9942\n",
            "Epoch 19/50\n",
            "35/35 [==============================] - 0s 3ms/step - loss: 0.0405 - accuracy: 0.9971 - val_loss: 0.0367 - val_accuracy: 0.9942\n",
            "Epoch 20/50\n",
            "35/35 [==============================] - 0s 4ms/step - loss: 0.0364 - accuracy: 0.9971 - val_loss: 0.0351 - val_accuracy: 0.9942\n",
            "Epoch 21/50\n",
            "35/35 [==============================] - 0s 4ms/step - loss: 0.0429 - accuracy: 0.9914 - val_loss: 0.0357 - val_accuracy: 1.0000\n",
            "Epoch 22/50\n",
            "35/35 [==============================] - 0s 3ms/step - loss: 0.0363 - accuracy: 0.9914 - val_loss: 0.0340 - val_accuracy: 0.9942\n",
            "Epoch 23/50\n",
            "35/35 [==============================] - 0s 3ms/step - loss: 0.0346 - accuracy: 0.9942 - val_loss: 0.0332 - val_accuracy: 1.0000\n",
            "Epoch 24/50\n",
            "35/35 [==============================] - 0s 3ms/step - loss: 0.0309 - accuracy: 0.9942 - val_loss: 0.0281 - val_accuracy: 0.9942\n",
            "Epoch 25/50\n",
            "35/35 [==============================] - 0s 5ms/step - loss: 0.0301 - accuracy: 0.9914 - val_loss: 0.0415 - val_accuracy: 0.9942\n",
            "Epoch 26/50\n",
            "35/35 [==============================] - 0s 4ms/step - loss: 0.0417 - accuracy: 0.9798 - val_loss: 0.0338 - val_accuracy: 0.9942\n",
            "Epoch 27/50\n",
            "35/35 [==============================] - 0s 4ms/step - loss: 0.0373 - accuracy: 0.9914 - val_loss: 0.0739 - val_accuracy: 0.9883\n",
            "Epoch 28/50\n",
            "35/35 [==============================] - 0s 3ms/step - loss: 0.0390 - accuracy: 0.9885 - val_loss: 0.0279 - val_accuracy: 0.9942\n",
            "Epoch 29/50\n",
            "35/35 [==============================] - 0s 4ms/step - loss: 0.0316 - accuracy: 0.9885 - val_loss: 0.0343 - val_accuracy: 0.9942\n",
            "Epoch 30/50\n",
            "35/35 [==============================] - 0s 5ms/step - loss: 0.0234 - accuracy: 0.9914 - val_loss: 0.0254 - val_accuracy: 1.0000\n",
            "Epoch 31/50\n",
            "35/35 [==============================] - 0s 5ms/step - loss: 0.0291 - accuracy: 0.9942 - val_loss: 0.0227 - val_accuracy: 0.9942\n",
            "Epoch 32/50\n",
            "35/35 [==============================] - 0s 5ms/step - loss: 0.0546 - accuracy: 0.9769 - val_loss: 0.0428 - val_accuracy: 0.9825\n",
            "Epoch 33/50\n",
            "35/35 [==============================] - 0s 5ms/step - loss: 0.0319 - accuracy: 0.9914 - val_loss: 0.0221 - val_accuracy: 0.9942\n",
            "Epoch 34/50\n",
            "35/35 [==============================] - 0s 4ms/step - loss: 0.0381 - accuracy: 0.9827 - val_loss: 0.1824 - val_accuracy: 0.9240\n",
            "Epoch 35/50\n",
            "35/35 [==============================] - 0s 4ms/step - loss: 0.0433 - accuracy: 0.9856 - val_loss: 0.0498 - val_accuracy: 0.9708\n",
            "Epoch 36/50\n",
            "35/35 [==============================] - 0s 3ms/step - loss: 0.0203 - accuracy: 1.0000 - val_loss: 0.0190 - val_accuracy: 0.9942\n",
            "Epoch 37/50\n",
            "35/35 [==============================] - 0s 5ms/step - loss: 0.0160 - accuracy: 1.0000 - val_loss: 0.0289 - val_accuracy: 0.9942\n",
            "Epoch 38/50\n",
            "35/35 [==============================] - 0s 5ms/step - loss: 0.0286 - accuracy: 0.9914 - val_loss: 0.0208 - val_accuracy: 1.0000\n",
            "Epoch 39/50\n",
            "35/35 [==============================] - 0s 3ms/step - loss: 0.0274 - accuracy: 0.9885 - val_loss: 0.0327 - val_accuracy: 0.9883\n",
            "Epoch 40/50\n",
            "35/35 [==============================] - 0s 3ms/step - loss: 0.0371 - accuracy: 0.9856 - val_loss: 0.0237 - val_accuracy: 1.0000\n",
            "Epoch 41/50\n",
            "35/35 [==============================] - 0s 3ms/step - loss: 0.0370 - accuracy: 0.9885 - val_loss: 0.0367 - val_accuracy: 0.9825\n",
            "Epoch 42/50\n",
            "35/35 [==============================] - 0s 3ms/step - loss: 0.0562 - accuracy: 0.9827 - val_loss: 0.0631 - val_accuracy: 0.9825\n",
            "Epoch 43/50\n",
            "35/35 [==============================] - 0s 5ms/step - loss: 0.0730 - accuracy: 0.9625 - val_loss: 0.0183 - val_accuracy: 0.9942\n",
            "Epoch 44/50\n",
            "35/35 [==============================] - 0s 4ms/step - loss: 0.0231 - accuracy: 0.9971 - val_loss: 0.0480 - val_accuracy: 0.9766\n",
            "Epoch 45/50\n",
            "35/35 [==============================] - 0s 4ms/step - loss: 0.0268 - accuracy: 0.9914 - val_loss: 0.0206 - val_accuracy: 0.9942\n",
            "Epoch 46/50\n",
            "35/35 [==============================] - 0s 5ms/step - loss: 0.0481 - accuracy: 0.9798 - val_loss: 0.0202 - val_accuracy: 0.9942\n",
            "Epoch 47/50\n",
            "35/35 [==============================] - 0s 5ms/step - loss: 0.0501 - accuracy: 0.9798 - val_loss: 0.0663 - val_accuracy: 0.9708\n",
            "Epoch 48/50\n",
            "35/35 [==============================] - 0s 3ms/step - loss: 0.0292 - accuracy: 0.9856 - val_loss: 0.0782 - val_accuracy: 0.9766\n",
            "Epoch 49/50\n",
            "35/35 [==============================] - 0s 4ms/step - loss: 0.0357 - accuracy: 0.9741 - val_loss: 0.0176 - val_accuracy: 0.9942\n",
            "Epoch 50/50\n",
            "35/35 [==============================] - 0s 4ms/step - loss: 0.0241 - accuracy: 0.9827 - val_loss: 0.0671 - val_accuracy: 0.9708\n"
          ]
        }
      ],
      "source": [
        "# create model\n",
        "model = Sequential()\n",
        "model.add(Dense(14, input_dim=11, kernel_initializer='uniform', activation='relu'))\n",
        "model.add(Dense(12,kernel_initializer='uniform', activation='relu'))\n",
        "model.add(Dense(1, kernel_initializer='uniform', activation='sigmoid'))\n",
        "# Compile model\n",
        "model.compile(loss='binary_crossentropy', optimizer='adam', metrics=['accuracy'])\n",
        "# Fit the model\n",
        "hist = model.fit(X_train, y_train, validation_split=0.33, epochs=50, batch_size=10)"
      ]
    },
    {
      "cell_type": "markdown",
      "id": "82eaa6da",
      "metadata": {
        "id": "82eaa6da"
      },
      "source": [
        "## Model Evaluation"
      ]
    },
    {
      "cell_type": "code",
      "execution_count": 16,
      "id": "a4e31452",
      "metadata": {
        "colab": {
          "base_uri": "https://localhost:8080/"
        },
        "id": "a4e31452",
        "outputId": "fd334936-8f45-4597-c335-12a8ce32ba28"
      },
      "outputs": [
        {
          "output_type": "stream",
          "name": "stdout",
          "text": [
            "7/7 [==============================] - 0s 3ms/step - loss: 0.0649 - accuracy: 0.9730\n"
          ]
        }
      ],
      "source": [
        "test_loss, test_acc = model.evaluate(X_test, y_test)"
      ]
    },
    {
      "cell_type": "code",
      "execution_count": 17,
      "id": "3577943e",
      "metadata": {
        "colab": {
          "base_uri": "https://localhost:8080/"
        },
        "id": "3577943e",
        "outputId": "7cf94bf9-986a-4688-8936-6c5c6f1f3f90"
      },
      "outputs": [
        {
          "output_type": "stream",
          "name": "stdout",
          "text": [
            "dict_keys(['loss', 'accuracy', 'val_loss', 'val_accuracy'])\n"
          ]
        }
      ],
      "source": [
        "print(hist.history.keys())"
      ]
    },
    {
      "cell_type": "code",
      "execution_count": 18,
      "id": "463645a7",
      "metadata": {
        "colab": {
          "base_uri": "https://localhost:8080/",
          "height": 206
        },
        "id": "463645a7",
        "outputId": "d905de4d-e709-459f-deb3-b30ca1b83c60"
      },
      "outputs": [
        {
          "output_type": "execute_result",
          "data": {
            "text/plain": [
              "        loss  accuracy  val_loss  val_accuracy  epoch\n",
              "45  0.048148  0.979827  0.020232      0.994152     45\n",
              "46  0.050099  0.979827  0.066275      0.970760     46\n",
              "47  0.029183  0.985591  0.078236      0.976608     47\n",
              "48  0.035735  0.974063  0.017560      0.994152     48\n",
              "49  0.024076  0.982709  0.067053      0.970760     49"
            ],
            "text/html": [
              "\n",
              "  <div id=\"df-f7971631-8942-4b0d-af86-58ecf8aa90de\">\n",
              "    <div class=\"colab-df-container\">\n",
              "      <div>\n",
              "<style scoped>\n",
              "    .dataframe tbody tr th:only-of-type {\n",
              "        vertical-align: middle;\n",
              "    }\n",
              "\n",
              "    .dataframe tbody tr th {\n",
              "        vertical-align: top;\n",
              "    }\n",
              "\n",
              "    .dataframe thead th {\n",
              "        text-align: right;\n",
              "    }\n",
              "</style>\n",
              "<table border=\"1\" class=\"dataframe\">\n",
              "  <thead>\n",
              "    <tr style=\"text-align: right;\">\n",
              "      <th></th>\n",
              "      <th>loss</th>\n",
              "      <th>accuracy</th>\n",
              "      <th>val_loss</th>\n",
              "      <th>val_accuracy</th>\n",
              "      <th>epoch</th>\n",
              "    </tr>\n",
              "  </thead>\n",
              "  <tbody>\n",
              "    <tr>\n",
              "      <th>45</th>\n",
              "      <td>0.048148</td>\n",
              "      <td>0.979827</td>\n",
              "      <td>0.020232</td>\n",
              "      <td>0.994152</td>\n",
              "      <td>45</td>\n",
              "    </tr>\n",
              "    <tr>\n",
              "      <th>46</th>\n",
              "      <td>0.050099</td>\n",
              "      <td>0.979827</td>\n",
              "      <td>0.066275</td>\n",
              "      <td>0.970760</td>\n",
              "      <td>46</td>\n",
              "    </tr>\n",
              "    <tr>\n",
              "      <th>47</th>\n",
              "      <td>0.029183</td>\n",
              "      <td>0.985591</td>\n",
              "      <td>0.078236</td>\n",
              "      <td>0.976608</td>\n",
              "      <td>47</td>\n",
              "    </tr>\n",
              "    <tr>\n",
              "      <th>48</th>\n",
              "      <td>0.035735</td>\n",
              "      <td>0.974063</td>\n",
              "      <td>0.017560</td>\n",
              "      <td>0.994152</td>\n",
              "      <td>48</td>\n",
              "    </tr>\n",
              "    <tr>\n",
              "      <th>49</th>\n",
              "      <td>0.024076</td>\n",
              "      <td>0.982709</td>\n",
              "      <td>0.067053</td>\n",
              "      <td>0.970760</td>\n",
              "      <td>49</td>\n",
              "    </tr>\n",
              "  </tbody>\n",
              "</table>\n",
              "</div>\n",
              "      <button class=\"colab-df-convert\" onclick=\"convertToInteractive('df-f7971631-8942-4b0d-af86-58ecf8aa90de')\"\n",
              "              title=\"Convert this dataframe to an interactive table.\"\n",
              "              style=\"display:none;\">\n",
              "        \n",
              "  <svg xmlns=\"http://www.w3.org/2000/svg\" height=\"24px\"viewBox=\"0 0 24 24\"\n",
              "       width=\"24px\">\n",
              "    <path d=\"M0 0h24v24H0V0z\" fill=\"none\"/>\n",
              "    <path d=\"M18.56 5.44l.94 2.06.94-2.06 2.06-.94-2.06-.94-.94-2.06-.94 2.06-2.06.94zm-11 1L8.5 8.5l.94-2.06 2.06-.94-2.06-.94L8.5 2.5l-.94 2.06-2.06.94zm10 10l.94 2.06.94-2.06 2.06-.94-2.06-.94-.94-2.06-.94 2.06-2.06.94z\"/><path d=\"M17.41 7.96l-1.37-1.37c-.4-.4-.92-.59-1.43-.59-.52 0-1.04.2-1.43.59L10.3 9.45l-7.72 7.72c-.78.78-.78 2.05 0 2.83L4 21.41c.39.39.9.59 1.41.59.51 0 1.02-.2 1.41-.59l7.78-7.78 2.81-2.81c.8-.78.8-2.07 0-2.86zM5.41 20L4 18.59l7.72-7.72 1.47 1.35L5.41 20z\"/>\n",
              "  </svg>\n",
              "      </button>\n",
              "      \n",
              "  <style>\n",
              "    .colab-df-container {\n",
              "      display:flex;\n",
              "      flex-wrap:wrap;\n",
              "      gap: 12px;\n",
              "    }\n",
              "\n",
              "    .colab-df-convert {\n",
              "      background-color: #E8F0FE;\n",
              "      border: none;\n",
              "      border-radius: 50%;\n",
              "      cursor: pointer;\n",
              "      display: none;\n",
              "      fill: #1967D2;\n",
              "      height: 32px;\n",
              "      padding: 0 0 0 0;\n",
              "      width: 32px;\n",
              "    }\n",
              "\n",
              "    .colab-df-convert:hover {\n",
              "      background-color: #E2EBFA;\n",
              "      box-shadow: 0px 1px 2px rgba(60, 64, 67, 0.3), 0px 1px 3px 1px rgba(60, 64, 67, 0.15);\n",
              "      fill: #174EA6;\n",
              "    }\n",
              "\n",
              "    [theme=dark] .colab-df-convert {\n",
              "      background-color: #3B4455;\n",
              "      fill: #D2E3FC;\n",
              "    }\n",
              "\n",
              "    [theme=dark] .colab-df-convert:hover {\n",
              "      background-color: #434B5C;\n",
              "      box-shadow: 0px 1px 3px 1px rgba(0, 0, 0, 0.15);\n",
              "      filter: drop-shadow(0px 1px 2px rgba(0, 0, 0, 0.3));\n",
              "      fill: #FFFFFF;\n",
              "    }\n",
              "  </style>\n",
              "\n",
              "      <script>\n",
              "        const buttonEl =\n",
              "          document.querySelector('#df-f7971631-8942-4b0d-af86-58ecf8aa90de button.colab-df-convert');\n",
              "        buttonEl.style.display =\n",
              "          google.colab.kernel.accessAllowed ? 'block' : 'none';\n",
              "\n",
              "        async function convertToInteractive(key) {\n",
              "          const element = document.querySelector('#df-f7971631-8942-4b0d-af86-58ecf8aa90de');\n",
              "          const dataTable =\n",
              "            await google.colab.kernel.invokeFunction('convertToInteractive',\n",
              "                                                     [key], {});\n",
              "          if (!dataTable) return;\n",
              "\n",
              "          const docLinkHtml = 'Like what you see? Visit the ' +\n",
              "            '<a target=\"_blank\" href=https://colab.research.google.com/notebooks/data_table.ipynb>data table notebook</a>'\n",
              "            + ' to learn more about interactive tables.';\n",
              "          element.innerHTML = '';\n",
              "          dataTable['output_type'] = 'display_data';\n",
              "          await google.colab.output.renderOutput(dataTable, element);\n",
              "          const docLink = document.createElement('div');\n",
              "          docLink.innerHTML = docLinkHtml;\n",
              "          element.appendChild(docLink);\n",
              "        }\n",
              "      </script>\n",
              "    </div>\n",
              "  </div>\n",
              "  "
            ]
          },
          "metadata": {},
          "execution_count": 18
        }
      ],
      "source": [
        "hist_df = pd.DataFrame(hist.history)\n",
        "hist_df[\"epoch\"]=hist.epoch\n",
        "hist_df.tail()"
      ]
    },
    {
      "cell_type": "markdown",
      "id": "a63255bb",
      "metadata": {
        "id": "a63255bb"
      },
      "source": [
        "## Visualize Training History"
      ]
    },
    {
      "cell_type": "code",
      "execution_count": 19,
      "id": "fc2d3779",
      "metadata": {
        "colab": {
          "base_uri": "https://localhost:8080/",
          "height": 472
        },
        "id": "fc2d3779",
        "outputId": "9e832804-7f07-4b6c-8f3f-f963c944177c"
      },
      "outputs": [
        {
          "output_type": "display_data",
          "data": {
            "text/plain": [
              "<Figure size 640x480 with 1 Axes>"
            ],
            "image/png": "[encoded data removed]"
          },
          "metadata": {}
        }
      ],
      "source": [
        "# summarize history for accuracy\n",
        "plt.plot(hist.history['accuracy'])\n",
        "plt.plot(hist.history['val_accuracy'])\n",
        "plt.title('model accuracy')\n",
        "plt.ylabel('accuracy')\n",
        "plt.xlabel('epoch')\n",
        "plt.legend(['train', 'test'], loc='upper left')\n",
        "plt.show()"
      ]
    },
    {
      "cell_type": "code",
      "execution_count": 20,
      "id": "be091326",
      "metadata": {
        "colab": {
          "base_uri": "https://localhost:8080/",
          "height": 489
        },
        "id": "be091326",
        "outputId": "deb86f9d-10de-4a48-d565-107be3560208"
      },
      "outputs": [
        {
          "output_type": "execute_result",
          "data": {
            "text/plain": [
              "<matplotlib.legend.Legend at 0x7f981c505ed0>"
            ]
          },
          "metadata": {},
          "execution_count": 20
        },
        {
          "output_type": "display_data",
          "data": {
            "text/plain": [
              "<Figure size 640x480 with 1 Axes>"
            ],
            "image/png": "[encoded data removed]"
          },
          "metadata": {}
        }
      ],
      "source": [
        "# summarize history for loss\n",
        "plt.plot(hist.history['loss'])\n",
        "plt.plot(hist.history['val_loss'])\n",
        "plt.title('model loss')\n",
        "plt.ylabel('loss')\n",
        "plt.xlabel('epoch')\n",
        "plt.legend(['train', 'test'], loc='upper left')"
      ]
    },
    {
      "cell_type": "markdown",
      "id": "619933a7",
      "metadata": {
        "id": "619933a7"
      },
      "source": [
        "### Tuning of Hyperparameters :- Batch Size and Epochs"
      ]
    },
    {
      "cell_type": "code",
      "execution_count": 21,
      "id": "e1fa04b1",
      "metadata": {
        "id": "e1fa04b1"
      },
      "outputs": [],
      "source": [
        "# Importing the necessary packages\n",
        "from sklearn.model_selection import GridSearchCV, KFold\n",
        "from keras.models import Sequential\n",
        "from keras.layers import Dense\n",
        "from keras.wrappers.scikit_learn import KerasClassifier\n",
        "from keras.optimizers import Adam"
      ]
    },
    {
      "cell_type": "code",
      "execution_count": 22,
      "id": "dbc46b13",
      "metadata": {
        "id": "dbc46b13"
      },
      "outputs": [],
      "source": [
        "# create model\n",
        "def create_model():\n",
        "    model = Sequential()\n",
        "    model.add(Dense(12, input_dim=8, kernel_initializer='uniform', activation='relu'))\n",
        "    model.add(Dense(8, kernel_initializer='uniform', activation='relu'))\n",
        "    model.add(Dense(1, kernel_initializer='uniform', activation='sigmoid'))\n",
        "\n",
        "    adam=Adam(lr=0.01)\n",
        "    model.compile(loss='binary_crossentropy', optimizer=adam, metrics=['accuracy'])\n",
        "    return model"
      ]
    },
    {
      "cell_type": "code",
      "execution_count": 23,
      "id": "387541b3",
      "metadata": {
        "id": "387541b3"
      },
      "outputs": [],
      "source": [
        "from sklearn.preprocessing import StandardScaler\n",
        "a = StandardScaler()\n",
        "a.fit(X)\n",
        "X_standardized = a.transform(X)"
      ]
    },
    {
      "cell_type": "markdown",
      "id": "e556e4b2",
      "metadata": {
        "id": "e556e4b2"
      },
      "source": [
        "## Tuning of Hyperparameters:- Learning rate and Drop out rate"
      ]
    },
    {
      "cell_type": "code",
      "execution_count": 24,
      "id": "4e216fb3",
      "metadata": {
        "colab": {
          "base_uri": "https://localhost:8080/"
        },
        "id": "4e216fb3",
        "outputId": "8a476615-3d65-460e-836e-6a6ca9ed7804"
      },
      "outputs": [
        {
          "output_type": "stream",
          "name": "stdout",
          "text": [
            "Fitting 5 folds for each of 9 candidates, totalling 45 fits\n",
            "[CV 1/5; 1/9] START dropout_rate=0.0, learning_rate=0.001.......................\n",
            "[CV 1/5; 1/9] END dropout_rate=0.0, learning_rate=0.001;, score=0.993 total time=   6.2s\n",
            "[CV 2/5; 1/9] START dropout_rate=0.0, learning_rate=0.001.......................\n",
            "[CV 2/5; 1/9] END dropout_rate=0.0, learning_rate=0.001;, score=0.986 total time=   3.3s\n",
            "[CV 3/5; 1/9] START dropout_rate=0.0, learning_rate=0.001.......................\n",
            "[CV 3/5; 1/9] END dropout_rate=0.0, learning_rate=0.001;, score=0.939 total time=   6.3s\n",
            "[CV 4/5; 1/9] START dropout_rate=0.0, learning_rate=0.001.......................\n",
            "[CV 4/5; 1/9] END dropout_rate=0.0, learning_rate=0.001;, score=0.980 total time=   3.3s\n",
            "[CV 5/5; 1/9] START dropout_rate=0.0, learning_rate=0.001.......................\n",
            "[CV 5/5; 1/9] END dropout_rate=0.0, learning_rate=0.001;, score=1.000 total time=   3.4s\n",
            "[CV 1/5; 2/9] START dropout_rate=0.0, learning_rate=0.01........................\n",
            "[CV 1/5; 2/9] END dropout_rate=0.0, learning_rate=0.01;, score=1.000 total time=   5.9s\n",
            "[CV 2/5; 2/9] START dropout_rate=0.0, learning_rate=0.01........................\n",
            "[CV 2/5; 2/9] END dropout_rate=0.0, learning_rate=0.01;, score=0.980 total time=   3.4s\n",
            "[CV 3/5; 2/9] START dropout_rate=0.0, learning_rate=0.01........................\n",
            "[CV 3/5; 2/9] END dropout_rate=0.0, learning_rate=0.01;, score=0.953 total time=   3.3s\n",
            "[CV 4/5; 2/9] START dropout_rate=0.0, learning_rate=0.01........................\n",
            "[CV 4/5; 2/9] END dropout_rate=0.0, learning_rate=0.01;, score=0.980 total time=   5.9s\n",
            "[CV 5/5; 2/9] START dropout_rate=0.0, learning_rate=0.01........................\n",
            "[CV 5/5; 2/9] END dropout_rate=0.0, learning_rate=0.01;, score=1.000 total time=   3.1s\n",
            "[CV 1/5; 3/9] START dropout_rate=0.0, learning_rate=0.1.........................\n",
            "[CV 1/5; 3/9] END dropout_rate=0.0, learning_rate=0.1;, score=0.993 total time=   3.3s\n",
            "[CV 2/5; 3/9] START dropout_rate=0.0, learning_rate=0.1.........................\n",
            "[CV 2/5; 3/9] END dropout_rate=0.0, learning_rate=0.1;, score=0.493 total time=   5.9s\n",
            "[CV 3/5; 3/9] START dropout_rate=0.0, learning_rate=0.1.........................\n",
            "[CV 3/5; 3/9] END dropout_rate=0.0, learning_rate=0.1;, score=0.966 total time=   3.3s\n",
            "[CV 4/5; 3/9] START dropout_rate=0.0, learning_rate=0.1.........................\n",
            "[CV 4/5; 3/9] END dropout_rate=0.0, learning_rate=0.1;, score=0.973 total time=   3.4s\n",
            "[CV 5/5; 3/9] START dropout_rate=0.0, learning_rate=0.1.........................\n",
            "[CV 5/5; 3/9] END dropout_rate=0.0, learning_rate=0.1;, score=0.926 total time=   5.9s\n",
            "[CV 1/5; 4/9] START dropout_rate=0.1, learning_rate=0.001.......................\n",
            "[CV 1/5; 4/9] END dropout_rate=0.1, learning_rate=0.001;, score=1.000 total time=   3.4s\n",
            "[CV 2/5; 4/9] START dropout_rate=0.1, learning_rate=0.001.......................\n",
            "[CV 2/5; 4/9] END dropout_rate=0.1, learning_rate=0.001;, score=0.986 total time=   3.4s\n",
            "[CV 3/5; 4/9] START dropout_rate=0.1, learning_rate=0.001.......................\n",
            "[CV 3/5; 4/9] END dropout_rate=0.1, learning_rate=0.001;, score=0.953 total time=   6.8s\n",
            "[CV 4/5; 4/9] START dropout_rate=0.1, learning_rate=0.001.......................\n",
            "[CV 4/5; 4/9] END dropout_rate=0.1, learning_rate=0.001;, score=0.980 total time=   3.4s\n",
            "[CV 5/5; 4/9] START dropout_rate=0.1, learning_rate=0.001.......................\n",
            "[CV 5/5; 4/9] END dropout_rate=0.1, learning_rate=0.001;, score=0.986 total time=   3.5s\n",
            "[CV 1/5; 5/9] START dropout_rate=0.1, learning_rate=0.01........................\n",
            "[CV 1/5; 5/9] END dropout_rate=0.1, learning_rate=0.01;, score=0.993 total time=   6.3s\n",
            "[CV 2/5; 5/9] START dropout_rate=0.1, learning_rate=0.01........................\n",
            "[CV 2/5; 5/9] END dropout_rate=0.1, learning_rate=0.01;, score=0.973 total time=   3.4s\n",
            "[CV 3/5; 5/9] START dropout_rate=0.1, learning_rate=0.01........................\n",
            "[CV 3/5; 5/9] END dropout_rate=0.1, learning_rate=0.01;, score=0.932 total time=   3.5s\n",
            "[CV 4/5; 5/9] START dropout_rate=0.1, learning_rate=0.01........................\n",
            "[CV 4/5; 5/9] END dropout_rate=0.1, learning_rate=0.01;, score=0.993 total time=   4.1s\n",
            "[CV 5/5; 5/9] START dropout_rate=0.1, learning_rate=0.01........................\n",
            "[CV 5/5; 5/9] END dropout_rate=0.1, learning_rate=0.01;, score=0.993 total time=   3.4s\n",
            "[CV 1/5; 6/9] START dropout_rate=0.1, learning_rate=0.1.........................\n",
            "[CV 1/5; 6/9] END dropout_rate=0.1, learning_rate=0.1;, score=0.953 total time=   3.4s\n",
            "[CV 2/5; 6/9] START dropout_rate=0.1, learning_rate=0.1.........................\n",
            "[CV 2/5; 6/9] END dropout_rate=0.1, learning_rate=0.1;, score=0.966 total time=   4.2s\n",
            "[CV 3/5; 6/9] START dropout_rate=0.1, learning_rate=0.1.........................\n",
            "[CV 3/5; 6/9] END dropout_rate=0.1, learning_rate=0.1;, score=0.892 total time=   3.4s\n",
            "[CV 4/5; 6/9] START dropout_rate=0.1, learning_rate=0.1.........................\n",
            "[CV 4/5; 6/9] END dropout_rate=0.1, learning_rate=0.1;, score=0.932 total time=   3.4s\n",
            "[CV 5/5; 6/9] START dropout_rate=0.1, learning_rate=0.1.........................\n",
            "[CV 5/5; 6/9] END dropout_rate=0.1, learning_rate=0.1;, score=0.872 total time=   3.4s\n",
            "[CV 1/5; 7/9] START dropout_rate=0.2, learning_rate=0.001.......................\n",
            "[CV 1/5; 7/9] END dropout_rate=0.2, learning_rate=0.001;, score=1.000 total time=   6.3s\n",
            "[CV 2/5; 7/9] START dropout_rate=0.2, learning_rate=0.001.......................\n",
            "[CV 2/5; 7/9] END dropout_rate=0.2, learning_rate=0.001;, score=0.980 total time=   3.4s\n",
            "[CV 3/5; 7/9] START dropout_rate=0.2, learning_rate=0.001.......................\n",
            "[CV 3/5; 7/9] END dropout_rate=0.2, learning_rate=0.001;, score=0.973 total time=   4.6s\n",
            "[CV 4/5; 7/9] START dropout_rate=0.2, learning_rate=0.001.......................\n",
            "[CV 4/5; 7/9] END dropout_rate=0.2, learning_rate=0.001;, score=0.980 total time=   3.5s\n",
            "[CV 5/5; 7/9] START dropout_rate=0.2, learning_rate=0.001.......................\n",
            "[CV 5/5; 7/9] END dropout_rate=0.2, learning_rate=0.001;, score=0.986 total time=   3.4s\n",
            "[CV 1/5; 8/9] START dropout_rate=0.2, learning_rate=0.01........................\n",
            "[CV 1/5; 8/9] END dropout_rate=0.2, learning_rate=0.01;, score=1.000 total time=   3.4s\n",
            "[CV 2/5; 8/9] START dropout_rate=0.2, learning_rate=0.01........................\n",
            "[CV 2/5; 8/9] END dropout_rate=0.2, learning_rate=0.01;, score=0.966 total time=   6.2s\n",
            "[CV 3/5; 8/9] START dropout_rate=0.2, learning_rate=0.01........................\n",
            "[CV 3/5; 8/9] END dropout_rate=0.2, learning_rate=0.01;, score=0.973 total time=   3.3s\n",
            "[CV 4/5; 8/9] START dropout_rate=0.2, learning_rate=0.01........................\n",
            "[CV 4/5; 8/9] END dropout_rate=0.2, learning_rate=0.01;, score=0.986 total time=   3.3s\n",
            "[CV 5/5; 8/9] START dropout_rate=0.2, learning_rate=0.01........................\n",
            "[CV 5/5; 8/9] END dropout_rate=0.2, learning_rate=0.01;, score=0.959 total time=   4.2s\n",
            "[CV 1/5; 9/9] START dropout_rate=0.2, learning_rate=0.1.........................\n",
            "[CV 1/5; 9/9] END dropout_rate=0.2, learning_rate=0.1;, score=1.000 total time=   3.4s\n",
            "[CV 2/5; 9/9] START dropout_rate=0.2, learning_rate=0.1.........................\n",
            "[CV 2/5; 9/9] END dropout_rate=0.2, learning_rate=0.1;, score=0.966 total time=   3.4s\n",
            "[CV 3/5; 9/9] START dropout_rate=0.2, learning_rate=0.1.........................\n",
            "[CV 3/5; 9/9] END dropout_rate=0.2, learning_rate=0.1;, score=0.905 total time=   6.0s\n",
            "[CV 4/5; 9/9] START dropout_rate=0.2, learning_rate=0.1.........................\n",
            "[CV 4/5; 9/9] END dropout_rate=0.2, learning_rate=0.1;, score=0.764 total time=   3.5s\n",
            "[CV 5/5; 9/9] START dropout_rate=0.2, learning_rate=0.1.........................\n",
            "[CV 5/5; 9/9] END dropout_rate=0.2, learning_rate=0.1;, score=0.919 total time=   3.4s\n"
          ]
        }
      ],
      "source": [
        "from keras.layers import Dropout\n",
        "\n",
        "# Defining the model\n",
        "\n",
        "def create_model2(learning_rate,dropout_rate):\n",
        "    model = Sequential()\n",
        "    model.add(Dense(14,input_dim = 11,kernel_initializer = 'uniform',activation = 'relu'))\n",
        "    model.add(Dropout(dropout_rate))\n",
        "    model.add(Dense(12,input_dim = 14,kernel_initializer = 'uniform',activation = 'relu'))\n",
        "    model.add(Dropout(dropout_rate))\n",
        "    model.add(Dense(1,kernel_initializer='uniform',activation = 'sigmoid'))\n",
        "\n",
        "    adam = Adam(lr = learning_rate)\n",
        "    model.compile(loss = 'binary_crossentropy',optimizer = adam,metrics = ['accuracy'])\n",
        "    return model\n",
        "\n",
        "# Create the model\n",
        "\n",
        "model2 = KerasClassifier(build_fn = create_model2,verbose = 0,batch_size = 20,epochs = 50)\n",
        "\n",
        "# Define the grid search parameters\n",
        "\n",
        "learning_rate = [0.001,0.01,0.1]\n",
        "dropout_rate = [0.0,0.1,0.2]\n",
        "\n",
        "# Make a dictionary of the grid search parameters\n",
        "\n",
        "param_grids2 = dict(learning_rate = learning_rate,dropout_rate = dropout_rate)\n",
        "\n",
        "# Build and fit the GridSearchCV\n",
        "\n",
        "grid2 = GridSearchCV(estimator = model2,param_grid = param_grids2,cv = KFold(),verbose = 10)\n",
        "grid_result2 = grid2.fit(X_standardized,Y)"
      ]
    },
    {
      "cell_type": "code",
      "execution_count": 25,
      "id": "c7021823",
      "metadata": {
        "colab": {
          "base_uri": "https://localhost:8080/"
        },
        "id": "c7021823",
        "outputId": "6052dc01-31e2-4cd0-9fc0-3683ea76b256"
      },
      "outputs": [
        {
          "output_type": "stream",
          "name": "stdout",
          "text": [
            "Best : 0.9837837815284729, using {'dropout_rate': 0.2, 'learning_rate': 0.001}\n",
            "0.9797297239303588,0.021366735750974725 with: {'dropout_rate': 0.0, 'learning_rate': 0.001}\n",
            "0.9824324250221252,0.017410945875740592 with: {'dropout_rate': 0.0, 'learning_rate': 0.01}\n",
            "0.8702702701091767,0.18978669790550914 with: {'dropout_rate': 0.0, 'learning_rate': 0.1}\n",
            "0.9810810804367065,0.015643024845568468 with: {'dropout_rate': 0.1, 'learning_rate': 0.001}\n",
            "0.9770270109176635,0.023638990300470807 with: {'dropout_rate': 0.1, 'learning_rate': 0.01}\n",
            "0.9229729652404786,0.035906297224154705 with: {'dropout_rate': 0.1, 'learning_rate': 0.1}\n",
            "0.9837837815284729,0.009165310598001547 with: {'dropout_rate': 0.2, 'learning_rate': 0.001}\n",
            "0.9770270347595215,0.014554495230910265 with: {'dropout_rate': 0.2, 'learning_rate': 0.01}\n",
            "0.9108108043670654,0.0810134867610561 with: {'dropout_rate': 0.2, 'learning_rate': 0.1}\n"
          ]
        }
      ],
      "source": [
        "# Summarize the results\n",
        "print('Best : {}, using {}'.format(grid_result2.best_score_,grid_result2.best_params_))\n",
        "means2 = grid_result2.cv_results_['mean_test_score']\n",
        "stds2 = grid_result2.cv_results_['std_test_score']\n",
        "params2 = grid_result2.cv_results_['params']\n",
        "for mean, stdev, param in zip(means2, stds2, params2):\n",
        "  print('{},{} with: {}'.format(mean, stdev, param))\n",
        "#Best score for Dropout rate = 0.2 and learning rate is 0.001"
      ]
    },
    {
      "cell_type": "markdown",
      "id": "04801b59",
      "metadata": {
        "id": "04801b59"
      },
      "source": [
        "## Tuning of Hyperparameters:- Activation Function and Kernel Initializer"
      ]
    },
    {
      "cell_type": "code",
      "execution_count": 26,
      "id": "86817757",
      "metadata": {
        "colab": {
          "base_uri": "https://localhost:8080/"
        },
        "id": "86817757",
        "outputId": "b4378ebc-adf3-4672-a063-a53ecba04d30"
      },
      "outputs": [
        {
          "output_type": "stream",
          "name": "stdout",
          "text": [
            "Fitting 5 folds for each of 12 candidates, totalling 60 fits\n",
            "[CV 1/5; 1/12] START activation_function=softmax, init=uniform..................\n",
            "[CV 1/5; 1/12] END activation_function=softmax, init=uniform;, score=0.000 total time=   6.0s\n",
            "[CV 2/5; 1/12] START activation_function=softmax, init=uniform..................\n",
            "[CV 2/5; 1/12] END activation_function=softmax, init=uniform;, score=0.655 total time=   6.0s\n",
            "[CV 3/5; 1/12] START activation_function=softmax, init=uniform..................\n",
            "[CV 3/5; 1/12] END activation_function=softmax, init=uniform;, score=0.365 total time=   4.4s\n",
            "[CV 4/5; 1/12] START activation_function=softmax, init=uniform..................\n",
            "[CV 4/5; 1/12] END activation_function=softmax, init=uniform;, score=0.500 total time=   6.0s\n",
            "[CV 5/5; 1/12] START activation_function=softmax, init=uniform..................\n",
            "[CV 5/5; 1/12] END activation_function=softmax, init=uniform;, score=0.054 total time=   3.7s\n",
            "[CV 1/5; 2/12] START activation_function=softmax, init=normal...................\n",
            "[CV 1/5; 2/12] END activation_function=softmax, init=normal;, score=0.000 total time=   6.0s\n",
            "[CV 2/5; 2/12] START activation_function=softmax, init=normal...................\n",
            "[CV 2/5; 2/12] END activation_function=softmax, init=normal;, score=0.662 total time=   4.4s\n",
            "[CV 3/5; 2/12] START activation_function=softmax, init=normal...................\n",
            "[CV 3/5; 2/12] END activation_function=softmax, init=normal;, score=0.392 total time=   6.0s\n",
            "[CV 4/5; 2/12] START activation_function=softmax, init=normal...................\n",
            "[CV 4/5; 2/12] END activation_function=softmax, init=normal;, score=0.493 total time=   6.1s\n",
            "[CV 5/5; 2/12] START activation_function=softmax, init=normal...................\n",
            "[CV 5/5; 2/12] END activation_function=softmax, init=normal;, score=0.108 total time=   3.4s\n",
            "[CV 1/5; 3/12] START activation_function=softmax, init=zero.....................\n",
            "[CV 1/5; 3/12] END activation_function=softmax, init=zero;, score=0.000 total time=   3.4s\n",
            "[CV 2/5; 3/12] START activation_function=softmax, init=zero.....................\n",
            "[CV 2/5; 3/12] END activation_function=softmax, init=zero;, score=0.669 total time=   6.0s\n",
            "[CV 3/5; 3/12] START activation_function=softmax, init=zero.....................\n",
            "[CV 3/5; 3/12] END activation_function=softmax, init=zero;, score=0.365 total time=   3.4s\n",
            "[CV 4/5; 3/12] START activation_function=softmax, init=zero.....................\n",
            "[CV 4/5; 3/12] END activation_function=softmax, init=zero;, score=0.466 total time=   3.5s\n",
            "[CV 5/5; 3/12] START activation_function=softmax, init=zero.....................\n",
            "[CV 5/5; 3/12] END activation_function=softmax, init=zero;, score=0.101 total time=   6.0s\n",
            "[CV 1/5; 4/12] START activation_function=relu, init=uniform.....................\n",
            "[CV 1/5; 4/12] END activation_function=relu, init=uniform;, score=1.000 total time=   3.4s\n",
            "[CV 2/5; 4/12] START activation_function=relu, init=uniform.....................\n",
            "[CV 2/5; 4/12] END activation_function=relu, init=uniform;, score=0.980 total time=   3.4s\n",
            "[CV 3/5; 4/12] START activation_function=relu, init=uniform.....................\n",
            "[CV 3/5; 4/12] END activation_function=relu, init=uniform;, score=0.973 total time=   4.2s\n",
            "[CV 4/5; 4/12] START activation_function=relu, init=uniform.....................\n",
            "[CV 4/5; 4/12] END activation_function=relu, init=uniform;, score=0.986 total time=   4.0s\n",
            "[CV 5/5; 4/12] START activation_function=relu, init=uniform.....................\n",
            "[CV 5/5; 4/12] END activation_function=relu, init=uniform;, score=0.986 total time=   6.1s\n",
            "[CV 1/5; 5/12] START activation_function=relu, init=normal......................\n",
            "[CV 1/5; 5/12] END activation_function=relu, init=normal;, score=1.000 total time=   4.0s\n",
            "[CV 2/5; 5/12] START activation_function=relu, init=normal......................\n",
            "[CV 2/5; 5/12] END activation_function=relu, init=normal;, score=0.993 total time=   3.3s\n",
            "[CV 3/5; 5/12] START activation_function=relu, init=normal......................\n",
            "[CV 3/5; 5/12] END activation_function=relu, init=normal;, score=0.966 total time=   6.1s\n",
            "[CV 4/5; 5/12] START activation_function=relu, init=normal......................\n",
            "[CV 4/5; 5/12] END activation_function=relu, init=normal;, score=0.980 total time=   3.5s\n",
            "[CV 5/5; 5/12] START activation_function=relu, init=normal......................\n",
            "[CV 5/5; 5/12] END activation_function=relu, init=normal;, score=0.993 total time=   3.4s\n",
            "[CV 1/5; 6/12] START activation_function=relu, init=zero........................\n",
            "[CV 1/5; 6/12] END activation_function=relu, init=zero;, score=0.000 total time=   6.0s\n",
            "[CV 2/5; 6/12] START activation_function=relu, init=zero........................\n",
            "[CV 2/5; 6/12] END activation_function=relu, init=zero;, score=0.493 total time=   3.5s\n",
            "[CV 3/5; 6/12] START activation_function=relu, init=zero........................\n",
            "[CV 3/5; 6/12] END activation_function=relu, init=zero;, score=0.270 total time=   3.4s\n",
            "[CV 4/5; 6/12] START activation_function=relu, init=zero........................\n",
            "[CV 4/5; 6/12] END activation_function=relu, init=zero;, score=0.264 total time=   6.0s\n",
            "[CV 5/5; 6/12] START activation_function=relu, init=zero........................\n",
            "[CV 5/5; 6/12] END activation_function=relu, init=zero;, score=0.000 total time=   3.4s\n",
            "[CV 1/5; 7/12] START activation_function=tanh, init=uniform.....................\n",
            "[CV 1/5; 7/12] END activation_function=tanh, init=uniform;, score=1.000 total time=   3.4s\n",
            "[CV 2/5; 7/12] START activation_function=tanh, init=uniform.....................\n",
            "[CV 2/5; 7/12] END activation_function=tanh, init=uniform;, score=0.986 total time=   4.2s\n",
            "[CV 3/5; 7/12] START activation_function=tanh, init=uniform.....................\n",
            "[CV 3/5; 7/12] END activation_function=tanh, init=uniform;, score=0.973 total time=   3.5s\n",
            "[CV 4/5; 7/12] START activation_function=tanh, init=uniform.....................\n",
            "[CV 4/5; 7/12] END activation_function=tanh, init=uniform;, score=0.980 total time=   3.4s\n",
            "[CV 5/5; 7/12] START activation_function=tanh, init=uniform.....................\n",
            "[CV 5/5; 7/12] END activation_function=tanh, init=uniform;, score=1.000 total time=   6.6s\n",
            "[CV 1/5; 8/12] START activation_function=tanh, init=normal......................\n",
            "[CV 1/5; 8/12] END activation_function=tanh, init=normal;, score=1.000 total time=   6.1s\n",
            "[CV 2/5; 8/12] START activation_function=tanh, init=normal......................\n",
            "[CV 2/5; 8/12] END activation_function=tanh, init=normal;, score=0.986 total time=   4.0s\n",
            "[CV 3/5; 8/12] START activation_function=tanh, init=normal......................\n",
            "[CV 3/5; 8/12] END activation_function=tanh, init=normal;, score=0.966 total time=   3.8s\n",
            "[CV 4/5; 8/12] START activation_function=tanh, init=normal......................\n",
            "[CV 4/5; 8/12] END activation_function=tanh, init=normal;, score=0.993 total time=   3.5s\n",
            "[CV 5/5; 8/12] START activation_function=tanh, init=normal......................\n",
            "[CV 5/5; 8/12] END activation_function=tanh, init=normal;, score=0.993 total time=   3.4s\n",
            "[CV 1/5; 9/12] START activation_function=tanh, init=zero........................\n",
            "[CV 1/5; 9/12] END activation_function=tanh, init=zero;, score=0.000 total time=   6.1s\n",
            "[CV 2/5; 9/12] START activation_function=tanh, init=zero........................\n",
            "[CV 2/5; 9/12] END activation_function=tanh, init=zero;, score=0.493 total time=   3.5s\n",
            "[CV 3/5; 9/12] START activation_function=tanh, init=zero........................\n",
            "[CV 3/5; 9/12] END activation_function=tanh, init=zero;, score=0.270 total time=   3.5s\n",
            "[CV 4/5; 9/12] START activation_function=tanh, init=zero........................\n",
            "[CV 4/5; 9/12] END activation_function=tanh, init=zero;, score=0.264 total time=   6.3s\n",
            "[CV 5/5; 9/12] START activation_function=tanh, init=zero........................\n",
            "[CV 5/5; 9/12] END activation_function=tanh, init=zero;, score=0.000 total time=   3.4s\n",
            "[CV 1/5; 10/12] START activation_function=linear, init=uniform..................\n",
            "[CV 1/5; 10/12] END activation_function=linear, init=uniform;, score=1.000 total time=   3.5s\n",
            "[CV 2/5; 10/12] START activation_function=linear, init=uniform..................\n",
            "[CV 2/5; 10/12] END activation_function=linear, init=uniform;, score=0.986 total time=   3.9s\n",
            "[CV 3/5; 10/12] START activation_function=linear, init=uniform..................\n",
            "[CV 3/5; 10/12] END activation_function=linear, init=uniform;, score=0.966 total time=   3.3s\n",
            "[CV 4/5; 10/12] START activation_function=linear, init=uniform..................\n",
            "[CV 4/5; 10/12] END activation_function=linear, init=uniform;, score=0.973 total time=   3.3s\n",
            "[CV 5/5; 10/12] START activation_function=linear, init=uniform..................\n",
            "[CV 5/5; 10/12] END activation_function=linear, init=uniform;, score=0.986 total time=   6.0s\n",
            "[CV 1/5; 11/12] START activation_function=linear, init=normal...................\n",
            "[CV 1/5; 11/12] END activation_function=linear, init=normal;, score=1.000 total time=   6.9s\n",
            "[CV 2/5; 11/12] START activation_function=linear, init=normal...................\n",
            "[CV 2/5; 11/12] END activation_function=linear, init=normal;, score=0.986 total time=   4.4s\n",
            "[CV 3/5; 11/12] START activation_function=linear, init=normal...................\n",
            "[CV 3/5; 11/12] END activation_function=linear, init=normal;, score=0.973 total time=   3.5s\n",
            "[CV 4/5; 11/12] START activation_function=linear, init=normal...................\n",
            "[CV 4/5; 11/12] END activation_function=linear, init=normal;, score=0.980 total time=   3.4s\n",
            "[CV 5/5; 11/12] START activation_function=linear, init=normal...................\n",
            "[CV 5/5; 11/12] END activation_function=linear, init=normal;, score=0.993 total time=   6.0s\n",
            "[CV 1/5; 12/12] START activation_function=linear, init=zero.....................\n",
            "[CV 1/5; 12/12] END activation_function=linear, init=zero;, score=0.000 total time=   3.5s\n",
            "[CV 2/5; 12/12] START activation_function=linear, init=zero.....................\n",
            "[CV 2/5; 12/12] END activation_function=linear, init=zero;, score=0.493 total time=   3.4s\n",
            "[CV 3/5; 12/12] START activation_function=linear, init=zero.....................\n",
            "[CV 3/5; 12/12] END activation_function=linear, init=zero;, score=0.270 total time=   6.0s\n",
            "[CV 4/5; 12/12] START activation_function=linear, init=zero.....................\n",
            "[CV 4/5; 12/12] END activation_function=linear, init=zero;, score=0.264 total time=   3.4s\n",
            "[CV 5/5; 12/12] START activation_function=linear, init=zero.....................\n",
            "[CV 5/5; 12/12] END activation_function=linear, init=zero;, score=0.000 total time=   3.4s\n"
          ]
        }
      ],
      "source": [
        "# Defining the model\n",
        "\n",
        "def create_model3(activation_function,init):\n",
        "    model = Sequential()\n",
        "    model.add(Dense(14,input_dim = 11,kernel_initializer = init,activation = activation_function))\n",
        "    model.add(Dropout(0.2))\n",
        "    model.add(Dense(12,input_dim = 14,kernel_initializer = init,activation = activation_function))\n",
        "    model.add(Dropout(0.2))\n",
        "    model.add(Dense(1,activation = 'sigmoid'))\n",
        "\n",
        "    adam = Adam(lr = 0.001)\n",
        "    model.compile(loss = 'binary_crossentropy',optimizer = adam,metrics = ['accuracy'])\n",
        "    return model\n",
        "\n",
        "# Create the model\n",
        "\n",
        "model3 = KerasClassifier(build_fn = create_model3,verbose = 0,batch_size = 20,epochs = 50)\n",
        "\n",
        "# Define the grid search parameters\n",
        "activation_function = ['softmax','relu','tanh','linear']\n",
        "init = ['uniform','normal','zero']\n",
        "\n",
        "# Make a dictionary of the grid search parameters\n",
        "param_grids3 = dict(activation_function = activation_function,init = init)\n",
        "\n",
        "# Build and fit the GridSearchCV\n",
        "\n",
        "grid3 = GridSearchCV(estimator = model3,param_grid = param_grids3,cv = KFold(),verbose = 10)\n",
        "grid_result3 = grid3.fit(X_standardized,Y)"
      ]
    },
    {
      "cell_type": "code",
      "execution_count": 27,
      "id": "5b908fcf",
      "metadata": {
        "colab": {
          "base_uri": "https://localhost:8080/"
        },
        "id": "5b908fcf",
        "outputId": "f8cc731d-fcf9-46af-827c-344d547e30fe"
      },
      "outputs": [
        {
          "output_type": "stream",
          "name": "stdout",
          "text": [
            "Best : 0.987837839126587, using {'activation_function': 'tanh', 'init': 'uniform'}\n",
            "0.3148648627102375,0.2529446723740968 with: {'activation_function': 'softmax', 'init': 'uniform'}\n",
            "0.33108108788728713,0.24451619512211709 with: {'activation_function': 'softmax', 'init': 'normal'}\n",
            "0.3202702641487122,0.2430404514344354 with: {'activation_function': 'softmax', 'init': 'zero'}\n",
            "0.9851351380348206,0.00896384903617543 with: {'activation_function': 'relu', 'init': 'uniform'}\n",
            "0.9864864706993103,0.012086853392110861 with: {'activation_function': 'relu', 'init': 'normal'}\n",
            "0.2054054021835327,0.1869852319128333 with: {'activation_function': 'relu', 'init': 'zero'}\n",
            "0.987837839126587,0.010810808837419437 with: {'activation_function': 'tanh', 'init': 'uniform'}\n",
            "0.9878378272056579,0.011624762488609932 with: {'activation_function': 'tanh', 'init': 'normal'}\n",
            "0.2054054021835327,0.1869852319128333 with: {'activation_function': 'tanh', 'init': 'zero'}\n",
            "0.9824324369430542,0.01178080913815577 with: {'activation_function': 'linear', 'init': 'uniform'}\n",
            "0.9864864826202393,0.009555491347552538 with: {'activation_function': 'linear', 'init': 'normal'}\n",
            "0.2054054021835327,0.1869852319128333 with: {'activation_function': 'linear', 'init': 'zero'}\n"
          ]
        }
      ],
      "source": [
        "# Summarize the results\n",
        "print('Best : {}, using {}'.format(grid_result3.best_score_,grid_result3.best_params_))\n",
        "means3 = grid_result3.cv_results_['mean_test_score']\n",
        "stds3 = grid_result3.cv_results_['std_test_score']\n",
        "params3 = grid_result3.cv_results_['params']\n",
        "for mean, stdev, param in zip(means3, stds3, params3):\n",
        "  print('{},{} with: {}'.format(mean, stdev, param))\n",
        "#best activation function in our case would be Relu and Kernel Initializer is Uniform"
      ]
    },
    {
      "cell_type": "markdown",
      "id": "384a0df1",
      "metadata": {
        "id": "384a0df1"
      },
      "source": [
        "## Tuning of Hyperparameter :-Number of Neurons in activation layer"
      ]
    },
    {
      "cell_type": "code",
      "execution_count": 28,
      "id": "2a1b49d4",
      "metadata": {
        "colab": {
          "base_uri": "https://localhost:8080/"
        },
        "id": "2a1b49d4",
        "outputId": "6a301363-7d9a-4f6a-e65d-01d43af474ca"
      },
      "outputs": [
        {
          "output_type": "stream",
          "name": "stdout",
          "text": [
            "Fitting 5 folds for each of 9 candidates, totalling 45 fits\n",
            "[CV 1/5; 1/9] START neuron1=4, neuron2=4........................................\n",
            "[CV 1/5; 1/9] END .........neuron1=4, neuron2=4;, score=0.926 total time=   3.4s\n",
            "[CV 2/5; 1/9] START neuron1=4, neuron2=4........................................\n",
            "[CV 2/5; 1/9] END .........neuron1=4, neuron2=4;, score=0.986 total time=   3.4s\n",
            "[CV 3/5; 1/9] START neuron1=4, neuron2=4........................................\n",
            "[CV 3/5; 1/9] END .........neuron1=4, neuron2=4;, score=0.872 total time=   6.0s\n",
            "[CV 4/5; 1/9] START neuron1=4, neuron2=4........................................\n",
            "[CV 4/5; 1/9] END .........neuron1=4, neuron2=4;, score=0.966 total time=   3.4s\n",
            "[CV 5/5; 1/9] START neuron1=4, neuron2=4........................................\n",
            "[CV 5/5; 1/9] END .........neuron1=4, neuron2=4;, score=0.676 total time=   3.1s\n",
            "[CV 1/5; 2/9] START neuron1=4, neuron2=8........................................\n",
            "[CV 1/5; 2/9] END .........neuron1=4, neuron2=8;, score=1.000 total time=   6.0s\n",
            "[CV 2/5; 2/9] START neuron1=4, neuron2=8........................................\n",
            "[CV 2/5; 2/9] END .........neuron1=4, neuron2=8;, score=0.973 total time=   4.2s\n",
            "[CV 3/5; 2/9] START neuron1=4, neuron2=8........................................\n",
            "[CV 3/5; 2/9] END .........neuron1=4, neuron2=8;, score=0.953 total time=   3.5s\n",
            "[CV 4/5; 2/9] START neuron1=4, neuron2=8........................................\n",
            "[CV 4/5; 2/9] END .........neuron1=4, neuron2=8;, score=0.966 total time=   6.3s\n",
            "[CV 5/5; 2/9] START neuron1=4, neuron2=8........................................\n",
            "[CV 5/5; 2/9] END .........neuron1=4, neuron2=8;, score=0.892 total time=   3.2s\n",
            "[CV 1/5; 3/9] START neuron1=4, neuron2=12.......................................\n",
            "[CV 1/5; 3/9] END ........neuron1=4, neuron2=12;, score=1.000 total time=   3.5s\n",
            "[CV 2/5; 3/9] START neuron1=4, neuron2=12.......................................\n",
            "[CV 2/5; 3/9] END ........neuron1=4, neuron2=12;, score=0.993 total time=   3.8s\n",
            "[CV 3/5; 3/9] START neuron1=4, neuron2=12.......................................\n",
            "[CV 3/5; 3/9] END ........neuron1=4, neuron2=12;, score=0.919 total time=   3.5s\n",
            "[CV 4/5; 3/9] START neuron1=4, neuron2=12.......................................\n",
            "[CV 4/5; 3/9] END ........neuron1=4, neuron2=12;, score=0.973 total time=   3.2s\n",
            "[CV 5/5; 3/9] START neuron1=4, neuron2=12.......................................\n",
            "[CV 5/5; 3/9] END ........neuron1=4, neuron2=12;, score=0.831 total time=   6.0s\n",
            "[CV 1/5; 4/9] START neuron1=8, neuron2=4........................................\n",
            "[CV 1/5; 4/9] END .........neuron1=8, neuron2=4;, score=1.000 total time=   3.2s\n",
            "[CV 2/5; 4/9] START neuron1=8, neuron2=4........................................\n",
            "[CV 2/5; 4/9] END .........neuron1=8, neuron2=4;, score=0.986 total time=   3.1s\n",
            "[CV 3/5; 4/9] START neuron1=8, neuron2=4........................................\n",
            "[CV 3/5; 4/9] END .........neuron1=8, neuron2=4;, score=0.953 total time=   3.7s\n",
            "[CV 4/5; 4/9] START neuron1=8, neuron2=4........................................\n",
            "[CV 4/5; 4/9] END .........neuron1=8, neuron2=4;, score=0.980 total time=   3.5s\n",
            "[CV 5/5; 4/9] START neuron1=8, neuron2=4........................................\n",
            "[CV 5/5; 4/9] END .........neuron1=8, neuron2=4;, score=0.939 total time=   3.1s\n",
            "[CV 1/5; 5/9] START neuron1=8, neuron2=8........................................\n",
            "[CV 1/5; 5/9] END .........neuron1=8, neuron2=8;, score=1.000 total time=   3.4s\n",
            "[CV 2/5; 5/9] START neuron1=8, neuron2=8........................................\n",
            "[CV 2/5; 5/9] END .........neuron1=8, neuron2=8;, score=0.986 total time=   6.1s\n",
            "[CV 3/5; 5/9] START neuron1=8, neuron2=8........................................\n",
            "[CV 3/5; 5/9] END .........neuron1=8, neuron2=8;, score=0.966 total time=   4.2s\n",
            "[CV 4/5; 5/9] START neuron1=8, neuron2=8........................................\n",
            "[CV 4/5; 5/9] END .........neuron1=8, neuron2=8;, score=0.966 total time=   3.5s\n",
            "[CV 5/5; 5/9] START neuron1=8, neuron2=8........................................\n",
            "[CV 5/5; 5/9] END .........neuron1=8, neuron2=8;, score=0.966 total time=   3.9s\n",
            "[CV 1/5; 6/9] START neuron1=8, neuron2=12.......................................\n",
            "[CV 1/5; 6/9] END ........neuron1=8, neuron2=12;, score=1.000 total time=   3.4s\n",
            "[CV 2/5; 6/9] START neuron1=8, neuron2=12.......................................\n",
            "[CV 2/5; 6/9] END ........neuron1=8, neuron2=12;, score=0.993 total time=   3.3s\n",
            "[CV 3/5; 6/9] START neuron1=8, neuron2=12.......................................\n",
            "[CV 3/5; 6/9] END ........neuron1=8, neuron2=12;, score=0.959 total time=   4.1s\n",
            "[CV 4/5; 6/9] START neuron1=8, neuron2=12.......................................\n",
            "[CV 4/5; 6/9] END ........neuron1=8, neuron2=12;, score=0.966 total time=   3.2s\n",
            "[CV 5/5; 6/9] START neuron1=8, neuron2=12.......................................\n",
            "[CV 5/5; 6/9] END ........neuron1=8, neuron2=12;, score=0.980 total time=   3.4s\n",
            "[CV 1/5; 7/9] START neuron1=14, neuron2=4.......................................\n",
            "[CV 1/5; 7/9] END ........neuron1=14, neuron2=4;, score=1.000 total time=   3.5s\n",
            "[CV 2/5; 7/9] START neuron1=14, neuron2=4.......................................\n",
            "[CV 2/5; 7/9] END ........neuron1=14, neuron2=4;, score=0.986 total time=   4.0s\n",
            "[CV 3/5; 7/9] START neuron1=14, neuron2=4.......................................\n",
            "[CV 3/5; 7/9] END ........neuron1=14, neuron2=4;, score=0.966 total time=   3.3s\n",
            "[CV 4/5; 7/9] START neuron1=14, neuron2=4.......................................\n",
            "[CV 4/5; 7/9] END ........neuron1=14, neuron2=4;, score=0.986 total time=   3.5s\n",
            "[CV 5/5; 7/9] START neuron1=14, neuron2=4.......................................\n",
            "[CV 5/5; 7/9] END ........neuron1=14, neuron2=4;, score=0.986 total time=   4.1s\n",
            "[CV 1/5; 8/9] START neuron1=14, neuron2=8.......................................\n",
            "[CV 1/5; 8/9] END ........neuron1=14, neuron2=8;, score=1.000 total time=   3.4s\n",
            "[CV 2/5; 8/9] START neuron1=14, neuron2=8.......................................\n",
            "[CV 2/5; 8/9] END ........neuron1=14, neuron2=8;, score=0.986 total time=   3.4s\n",
            "[CV 3/5; 8/9] START neuron1=14, neuron2=8.......................................\n",
            "[CV 3/5; 8/9] END ........neuron1=14, neuron2=8;, score=0.959 total time=   3.5s\n",
            "[CV 4/5; 8/9] START neuron1=14, neuron2=8.......................................\n",
            "[CV 4/5; 8/9] END ........neuron1=14, neuron2=8;, score=0.986 total time=   7.2s\n",
            "[CV 5/5; 8/9] START neuron1=14, neuron2=8.......................................\n",
            "[CV 5/5; 8/9] END ........neuron1=14, neuron2=8;, score=0.993 total time=   6.2s\n",
            "[CV 1/5; 9/9] START neuron1=14, neuron2=12......................................\n",
            "[CV 1/5; 9/9] END .......neuron1=14, neuron2=12;, score=1.000 total time=   3.7s\n",
            "[CV 2/5; 9/9] START neuron1=14, neuron2=12......................................\n",
            "[CV 2/5; 9/9] END .......neuron1=14, neuron2=12;, score=0.980 total time=   6.0s\n",
            "[CV 3/5; 9/9] START neuron1=14, neuron2=12......................................\n",
            "[CV 3/5; 9/9] END .......neuron1=14, neuron2=12;, score=0.953 total time=   6.1s\n",
            "[CV 4/5; 9/9] START neuron1=14, neuron2=12......................................\n",
            "[CV 4/5; 9/9] END .......neuron1=14, neuron2=12;, score=0.980 total time=   3.6s\n",
            "[CV 5/5; 9/9] START neuron1=14, neuron2=12......................................\n",
            "[CV 5/5; 9/9] END .......neuron1=14, neuron2=12;, score=0.993 total time=   3.6s\n"
          ]
        }
      ],
      "source": [
        "# Defining the model\n",
        "\n",
        "def create_model4(neuron1,neuron2):\n",
        "    model = Sequential()\n",
        "    model.add(Dense(neuron1,input_dim = 11,kernel_initializer = 'uniform',activation = 'relu'))\n",
        "    model.add(Dropout(0.2))\n",
        "    model.add(Dense(neuron2,input_dim = neuron1,kernel_initializer = 'uniform',activation = 'relu'))\n",
        "    model.add(Dropout(0.2))\n",
        "    model.add(Dense(1,activation = 'sigmoid'))\n",
        "\n",
        "    adam = Adam(lr = 0.001)\n",
        "    model.compile(loss = 'binary_crossentropy',optimizer = adam,metrics = ['accuracy'])\n",
        "    return model\n",
        "\n",
        "# Create the model\n",
        "\n",
        "model4 = KerasClassifier(build_fn = create_model4,verbose = 0,batch_size = 20,epochs = 50)\n",
        "\n",
        "# Define the grid search parameters\n",
        "\n",
        "neuron1 = [4,8,14]\n",
        "neuron2 = [4,8,12]\n",
        "\n",
        "# Make a dictionary of the grid search parameters\n",
        "\n",
        "param_grids4 = dict(neuron1 = neuron1,neuron2 = neuron2)\n",
        "\n",
        "# Build and fit the GridSearchCV\n",
        "\n",
        "grid4 = GridSearchCV(estimator = model4,param_grid = param_grids4,cv = KFold(),verbose = 10)\n",
        "grid_result4 = grid4.fit(X_standardized,Y)"
      ]
    },
    {
      "cell_type": "code",
      "execution_count": 29,
      "id": "c9eb237f",
      "metadata": {
        "colab": {
          "base_uri": "https://localhost:8080/"
        },
        "id": "c9eb237f",
        "outputId": "b5583537-ec4f-468d-924e-e6835c38b6bb"
      },
      "outputs": [
        {
          "output_type": "stream",
          "name": "stdout",
          "text": [
            "Best : 0.9851351380348206, using {'neuron1': 14, 'neuron2': 4}\n",
            "0.8851351380348206,0.11184422137721037 with: {'neuron1': 4, 'neuron2': 4}\n",
            "0.9567567586898804,0.035906297224154705 with: {'neuron1': 4, 'neuron2': 8}\n",
            "0.9432432413101196,0.06289229848147583 with: {'neuron1': 4, 'neuron2': 12}\n",
            "0.9716216206550599,0.022368843267206243 with: {'neuron1': 8, 'neuron2': 4}\n",
            "0.9770270228385926,0.013913019305590524 with: {'neuron1': 8, 'neuron2': 8}\n",
            "0.9797297239303588,0.015407766831109972 with: {'neuron1': 8, 'neuron2': 12}\n",
            "0.9851351380348206,0.010810814797879806 with: {'neuron1': 14, 'neuron2': 4}\n",
            "0.9851351380348206,0.013781122099500118 with: {'neuron1': 14, 'neuron2': 8}\n",
            "0.9810810685157776,0.01621621350447626 with: {'neuron1': 14, 'neuron2': 12}\n"
          ]
        }
      ],
      "source": [
        "# Summarize the results\n",
        "print('Best : {}, using {}'.format(grid_result4.best_score_,grid_result4.best_params_))\n",
        "means4 = grid_result4.cv_results_['mean_test_score']\n",
        "stds4 = grid_result4.cv_results_['std_test_score']\n",
        "params4 = grid_result4.cv_results_['params']\n",
        "for mean, stdev, param in zip(means4, stds4, params4):\n",
        "  print('{},{} with: {}'.format(mean, stdev, param))\n",
        "\n",
        "#Best results are Neuron 1 = 4 and Neuron 2 = 4"
      ]
    },
    {
      "cell_type": "markdown",
      "id": "39827d3b",
      "metadata": {
        "id": "39827d3b"
      },
      "source": [
        "## Hyperparameters all at once"
      ]
    },
    {
      "cell_type": "markdown",
      "id": "7ff16dcb",
      "metadata": {
        "id": "7ff16dcb"
      },
      "source": [
        "##### The hyperparameter optimization was carried out by taking 2 hyperparameters at once. We may have missed the best values. The performance can be further improved by finding the optimum values of hyperparameters all at once given by the code snippet below.\n",
        "\n",
        "### This process is computationally expensive."
      ]
    },
    {
      "cell_type": "code",
      "execution_count": 30,
      "id": "210cbb61",
      "metadata": {
        "id": "210cbb61"
      },
      "outputs": [],
      "source": [
        "# Defining the model\n",
        "\n",
        "def create_model_fnl():\n",
        "    model = Sequential()\n",
        "    model.add(Dense(4,input_dim = 11,kernel_initializer = 'uniform',activation = 'relu'))\n",
        "    model.add(Dropout(0.2))\n",
        "    model.add(Dense(4,input_dim = 4,kernel_initializer = 'uniform',activation = 'relu'))\n",
        "    model.add(Dropout(0.2))\n",
        "    model.add(Dense(1,activation = 'sigmoid'))\n",
        "\n",
        "    adam = Adam(lr = 0.001) #sgd = SGD(lr=learning_rate, momentum=momentum, decay=decay_rate, nesterov=False)\n",
        "    model.compile(loss = 'binary_crossentropy',optimizer = adam,metrics = ['accuracy'])\n",
        "    return model\n",
        "\n",
        "# Create the model\n",
        "model_fnl = KerasClassifier(build_fn = create_model_fnl,verbose = 0,batch_size = 20,epochs = 50)\n",
        "#Making training and Testing Data\n",
        "X_train_1, X_test_1, y_train_1, y_test_1 = train_test_split(X_standardized,Y, test_size = 0.3)\n",
        "# Fitting the model\n",
        "hist2 = model_fnl.fit(X_train_1,y_train_1)\n"
      ]
    },
    {
      "cell_type": "code",
      "execution_count": 34,
      "id": "29058c50",
      "metadata": {
        "colab": {
          "base_uri": "https://localhost:8080/"
        },
        "id": "29058c50",
        "outputId": "732ac8c1-3ce1-4c71-f15a-2800cb134772"
      },
      "outputs": [
        {
          "output_type": "stream",
          "name": "stdout",
          "text": [
            "Requirement already satisfied: scikit-learn in /usr/local/lib/python3.10/dist-packages (1.3.0)\n",
            "Requirement already satisfied: numpy>=1.17.3 in /usr/local/lib/python3.10/dist-packages (from scikit-learn) (1.22.4)\n",
            "Requirement already satisfied: scipy>=1.5.0 in /usr/local/lib/python3.10/dist-packages (from scikit-learn) (1.10.1)\n",
            "Requirement already satisfied: joblib>=1.1.1 in /usr/local/lib/python3.10/dist-packages (from scikit-learn) (1.2.0)\n",
            "Requirement already satisfied: threadpoolctl>=2.0.0 in /usr/local/lib/python3.10/dist-packages (from scikit-learn) (3.1.0)\n",
            "7/7 [==============================] - 0s 3ms/step\n",
            "[[111   0]\n",
            " [  4 107]]\n",
            "              precision    recall  f1-score   support\n",
            "\n",
            "           0       0.97      1.00      0.98       111\n",
            "           1       1.00      0.96      0.98       111\n",
            "\n",
            "    accuracy                           0.98       222\n",
            "   macro avg       0.98      0.98      0.98       222\n",
            "weighted avg       0.98      0.98      0.98       222\n",
            "\n"
          ]
        }
      ],
      "source": [
        "!pip install --upgrade scikit-learn\n",
        "from sklearn.metrics import confusion_matrix,classification_report,confusion_matrix\n",
        "def report_model(model):\n",
        "    model_preds = model.predict(X_test_1)\n",
        "    print(confusion_matrix(y_test_1,model_preds))\n",
        "    print(classification_report(y_test_1,model_preds))\n",
        "report_model(model_fnl)"
      ]
    },
    {
      "cell_type": "code",
      "execution_count": null,
      "id": "624ebec1",
      "metadata": {
        "id": "624ebec1"
      },
      "outputs": [],
      "source": []
    }
  ],
  "metadata": {
    "kernelspec": {
      "display_name": "base",
      "language": "python",
      "name": "python3"
    },
    "language_info": {
      "codemirror_mode": {
        "name": "ipython",
        "version": 3
      },
      "file_extension": ".py",
      "mimetype": "text/x-python",
      "name": "python",
      "nbconvert_exporter": "python",
      "pygments_lexer": "ipython3",
      "version": "3.9.13"
    },
    "vscode": {
      "interpreter": {
        "hash": "ad2bdc8ecc057115af97d19610ffacc2b4e99fae6737bb82f5d7fb13d2f2c186"
      }
    },
    "colab": {
      "provenance": []
    }
  },
  "nbformat": 4,
  "nbformat_minor": 5
}